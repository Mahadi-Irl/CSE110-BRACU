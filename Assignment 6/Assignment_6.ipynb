{
  "nbformat": 4,
  "nbformat_minor": 0,
  "metadata": {
    "kernelspec": {
      "display_name": "Python 3",
      "language": "python",
      "name": "python3"
    },
    "language_info": {
      "codemirror_mode": {
        "name": "ipython",
        "version": 3
      },
      "file_extension": ".py",
      "mimetype": "text/x-python",
      "name": "python",
      "nbconvert_exporter": "python",
      "pygments_lexer": "ipython3",
      "version": "3.7.6"
    },
    "colab": {
      "name": "A6_21201301 _Mahadi Ibne Bakar_12_CSE110Assignment6.ipynb",
      "provenance": [],
      "collapsed_sections": []
    }
  },
  "cells": [
    {
      "cell_type": "markdown",
      "metadata": {
        "id": "mRHB9cBf5D7V"
      },
      "source": [
        "# CSE110 Lab Assignment 6\n",
        "This assignment is to guide you to solve everything you have learned so far by implementing functions in Python. \n",
        "\n"
      ]
    },
    {
      "cell_type": "markdown",
      "metadata": {
        "id": "_uzpm0b85D7Z"
      },
      "source": [
        "**<font color='red'>[MUST MAINTAIN VARIABLE NAMING CONVENTIONS FOR ALL THE TASKS]</font>**\n",
        "\n",
        "## Write the Python code of the following problems:\n",
        "\n",
        "### Task 1\n",
        "Write a function called **even_checker** that takes a number as an argument and prints whether the number is even or odd **inside the function**.\n",
        "\n",
        "===================================\n",
        "\n",
        "**Example1:** \\\n",
        "**Function Call:**\\\n",
        "even_checker(5)\\\n",
        "**Output:**\\\n",
        "Odd!!\n",
        "\n",
        "=============================\n",
        "\n",
        "**Example2:** \\\n",
        "**Function Call:**\\\n",
        "even_checker(2)\\\n",
        "**Output:**\\\n",
        "Even!!\n",
        "\n"
      ]
    },
    {
      "cell_type": "code",
      "metadata": {
        "id": "tMMBecSe5D7a",
        "colab": {
          "base_uri": "https://localhost:8080/"
        },
        "outputId": "188b3e72-3452-4091-c50e-59411f8b59c6"
      },
      "source": [
        "# define function to check if number is even or odd\n",
        "\n",
        "def even_checker(number):\n",
        "    if number % 2 == 0 :\n",
        "        print( 'Even!!' )\n",
        "    else :\n",
        "        print( 'Odd!!' )\n",
        "\n",
        "\n",
        "# take input from user\n",
        "\n",
        "num_1 = int(input( 'Please enter a number : ' ))\n",
        "\n",
        "even_checker( num_1 )\n",
        "\n",
        "# end"
      ],
      "execution_count": null,
      "outputs": [
        {
          "output_type": "stream",
          "name": "stdout",
          "text": [
            "Please enter a number : 2\n",
            "Even!!\n"
          ]
        }
      ]
    },
    {
      "cell_type": "markdown",
      "metadata": {
        "id": "YFKgn6Yw5D7f"
      },
      "source": [
        "### Task 2\n",
        "Write a python function that takes the limit as an argument of the Fibonacci series and prints till that limit. \n",
        "\n",
        "===================================\n",
        "\n",
        "**Function Call:**\\\n",
        "fibonacci(10)\\\n",
        "**Output:**\\\n",
        "0 1 1 2 3 5 8\\\n",
        "======================\\\n",
        "**Function Call:**\\\n",
        "fibonacci(5)\\\n",
        "**Output:**\\\n",
        "0 1 1 2 3 5 "
      ]
    },
    {
      "cell_type": "code",
      "metadata": {
        "id": "J4ab_IeA5D7g",
        "colab": {
          "base_uri": "https://localhost:8080/"
        },
        "outputId": "2f683250-a806-4847-9bce-aedcb4b757e0"
      },
      "source": [
        "# define function to print fibonacci series till the limit\n",
        "\n",
        "def fibonacci(limit):\n",
        "    a = 0\n",
        "    b = 1\n",
        "    series = '0 1'\n",
        "    while True :\n",
        "        c = a + b\n",
        "        a = b\n",
        "        b = c\n",
        "        if c > limit :\n",
        "            break\n",
        "        series += ' ' + str(c)\n",
        "    print( series )\n",
        "\n",
        "\n",
        "# take input from user\n",
        "\n",
        "num_1 = int(input( 'Please enter a number : ' ))\n",
        "\n",
        "fibonacci( num_1 )\n",
        "\n",
        "# end"
      ],
      "execution_count": null,
      "outputs": [
        {
          "output_type": "stream",
          "name": "stdout",
          "text": [
            "Please enter a number : 5\n",
            "0 1 1 2 3 5\n"
          ]
        }
      ]
    },
    {
      "cell_type": "markdown",
      "metadata": {
        "id": "rDY_xNcO5D7k"
      },
      "source": [
        "### Task 3\n",
        "Write a function called **foo_moo** that takes a number as an argument and **returns** the following statements according the below mentioned conditions. Then, finally prints the statement in the function call. \n",
        "\n",
        "* \tIf the number is divisible by 2, it should return \"Foo\".\n",
        "*   If the number is divisible by 3, it should return \"Moo\". \n",
        "*   If the number is divisible by both 2 and 3, it should return \"FooMoo\".\n",
        "*   Otherwise, it returns \"Boo\".\n",
        "\n",
        "===================================\n",
        "\n",
        "**Example1:** \\\n",
        "**Function Call:**\\\n",
        "foo_moo(5)\\\n",
        "**Output:**\\\n",
        "Boo\n",
        "\n",
        "=================\n",
        "\n",
        "\n",
        "**Example2:** \\\n",
        "**Function Call:**\\\n",
        "foo_moo(4)\\\n",
        "**Output:**\\\n",
        "Foo\n",
        "\n",
        "=================\n",
        "\n",
        "\n",
        "**Example3:** \\\n",
        "**Function Call:**\\\n",
        "foo_moo(6)\\\n",
        "**Output:**\\\n",
        "FooMoo\n",
        "\n"
      ]
    },
    {
      "cell_type": "code",
      "metadata": {
        "id": "2roUcNrC5D7l",
        "colab": {
          "base_uri": "https://localhost:8080/"
        },
        "outputId": "43838167-c139-4d05-a858-fed2b627a892"
      },
      "source": [
        "# define function to check the mentioned conditions\n",
        "\n",
        "def foo_moo(number):\n",
        "    if number % 2 == 0 and number % 3 == 0 :\n",
        "        print( 'FooMoo' )\n",
        "    elif number % 2 == 0 :\n",
        "        print( 'Foo' )\n",
        "    elif number % 3 == 0 :\n",
        "        print( 'Moo' )\n",
        "    else :\n",
        "        print( 'Boo' )\n",
        "\n",
        "\n",
        "# take input from user\n",
        "\n",
        "num_1 = int(input( 'Please enter a number : ' ))\n",
        "\n",
        "foo_moo( num_1 )\n",
        "\n",
        "# end"
      ],
      "execution_count": null,
      "outputs": [
        {
          "output_type": "stream",
          "name": "stdout",
          "text": [
            "Please enter a number : 6\n",
            "FooMoo\n"
          ]
        }
      ]
    },
    {
      "cell_type": "markdown",
      "metadata": {
        "id": "nemw1U-i5D7s"
      },
      "source": [
        "### Task 4\n",
        "Write a python function that takes a string as an argument. Your task is to calculate the number of uppercase letters and lowercase letters and print them in the function. \n",
        "\n",
        "===================================\n",
        "\n",
        "**Function Call:**\\\n",
        "function_name('The quick Sand Man')\\\n",
        "**Output:**\\\n",
        "No. of Uppercase characters : 3\\\n",
        "No. of Lowercase Characters: 12\\\n",
        "============================\\\n",
        "**Function Call:**\\\n",
        "function_name('HaRRy PotteR')\\\n",
        "**Output:**\\\n",
        "No. of Uppercase characters : 5\\\n",
        "No. of Lowercase Characters: 6\n"
      ]
    },
    {
      "cell_type": "code",
      "metadata": {
        "id": "4ZBb4Mcr5D7t",
        "colab": {
          "base_uri": "https://localhost:8080/"
        },
        "outputId": "475b37ff-ac93-4681-d5fe-9c0c1b9cf892"
      },
      "source": [
        "# define function to calculate the number of uppercase letters and lowercase letters\n",
        "\n",
        "def case_check(string_):\n",
        "    upper_case = 0\n",
        "    lower_case = 0\n",
        "    for i in string_ :\n",
        "        if 65 <= ord(i) <= 90 :\n",
        "            upper_case += 1\n",
        "        elif 97 <= ord(i) <= 122 :\n",
        "            lower_case += 1\n",
        "    print( 'No. of Uppercase characters :', upper_case )\n",
        "    print( 'No. of Lowercase characters :', lower_case )\n",
        "        \n",
        "\n",
        "# take input from user\n",
        "\n",
        "str_1 = input( 'Please enter a string : ' )\n",
        "\n",
        "case_check( str_1 )\n",
        "\n",
        "# end"
      ],
      "execution_count": null,
      "outputs": [
        {
          "output_type": "stream",
          "name": "stdout",
          "text": [
            "Please enter a string : HaRRy PotteR\n",
            "No. of Uppercase characters : 5\n",
            "No. of Lowercase characters : 6\n"
          ]
        }
      ]
    },
    {
      "cell_type": "markdown",
      "metadata": {
        "id": "e9bojIHe5D7w"
      },
      "source": [
        "### Task 5\n",
        "Write a function called **calculate_tax** that takes 3 arguments: your age, salary, and current job designation.\n",
        "\n",
        "\n",
        "Your first task is to take these arguments as user input and pass these values to the function.\n",
        "\n",
        "Your second task is to implement the function and calculate the tax as the following conditions:\n",
        "*  **NO TAX IF YOU ARE LESS THAN 18 YEARS OLD.**\n",
        "*  **NO TAX IF YOU ARE THE PRESIDENT OF THE COMPANY** \n",
        "*  No tax if you get paid less than 10,000\n",
        "*  5% tax if you get paid between 10K and 20K\n",
        "*  10% tax if you get paid more than 20K\n",
        "\n",
        "\n",
        "Finally return this tax value. Then print the returned value in the function call.\n",
        "\n",
        "===================================\n",
        "\n",
        "**Hints:**\\\n",
        "Here the job designation is a string, so it can be written in both uppercase and lower cases. So, you need to check the value ignoring the case.\n",
        "\n",
        "===================================\n",
        "\n",
        "**Example1:** \\\n",
        "**Input:**\\\n",
        "16\\\n",
        "20000\\\n",
        "Student\\\n",
        "**Function Call:**\\\n",
        "calculate_tax(16, 20000, 'Student')\\\n",
        "**Output:**\\\n",
        "0\n",
        "\n",
        "===================================\n",
        "\n",
        "**Example2:** \\\n",
        "**Input:**\\\n",
        "20\\\n",
        "18000\\\n",
        "assistant manager\\\n",
        "**Function Call:**\\\n",
        "calculate_tax(20, 18000, 'assistant manager')\\\n",
        "**Output:**\\\n",
        "900.0\n",
        "\n",
        "\n",
        "===================================\n",
        "\n",
        "**Example3:** \\\n",
        "**Input:**\\\n",
        "20\\\n",
        "22000\\\n",
        "assistant manager\\\n",
        "**Function Call:**\\\n",
        "calculate_tax(20, 22000, 'Assistant manager')\\\n",
        "**Output:**\\\n",
        "2200.0\n",
        "\n",
        "===================================\n",
        "\n",
        "\n",
        "**Example4:** \\\n",
        "**Input:**\\\n",
        "20\\\n",
        "122000\\\n",
        "president\\\n",
        "**Function Call:**\\\n",
        "calculate_tax(20, 122000, 'president')\\\n",
        "**Output:**\\\n",
        "0\n",
        " \n",
        "\n",
        "\n"
      ]
    },
    {
      "cell_type": "code",
      "metadata": {
        "id": "M4oo-FKQ5D7x",
        "colab": {
          "base_uri": "https://localhost:8080/"
        },
        "outputId": "0b8935b7-5ab5-42d9-f91b-5cf917cff4e0"
      },
      "source": [
        "# define function to calculate the tax with the given conditions\n",
        "\n",
        "def calculate_tax(age,salary,designation):\n",
        "    if age < 18 or designation.lower() == 'president' or salary < 10000 :\n",
        "        tax = 0\n",
        "    elif 10000<= salary <=20000 :\n",
        "        tax = 0.05 * salary\n",
        "    elif salary > 20000 :\n",
        "        tax = 0.1 * salary\n",
        "    return tax\n",
        "        \n",
        "\n",
        "# take input from user\n",
        "\n",
        "num_1 = int(input( 'Please enter your age : ' ))\n",
        "num_2 = int(input( 'Please enter your salary : ' ))\n",
        "str_1 = input( 'Please enter your designation : ' )\n",
        "\n",
        "print( calculate_tax( num_1,num_2,str_1 ) )\n",
        "\n",
        "# end"
      ],
      "execution_count": null,
      "outputs": [
        {
          "output_type": "stream",
          "name": "stdout",
          "text": [
            "Please enter your age : 20\n",
            "Please enter your salary : 22000\n",
            "Please enter your designation : Manager\n",
            "2200.0\n"
          ]
        }
      ]
    },
    {
      "cell_type": "markdown",
      "metadata": {
        "id": "VXLQHyLp5D71"
      },
      "source": [
        "### Task 6\n",
        "Write a function which will take 1 argument, number of days.\n",
        "\n",
        "Your first task is to take the number of days as user input and pass the value to the function.\n",
        " \n",
        "Your second task is to implement the function and calculate the total number of years, number of months, and the remaining number of days as output. No need to return any value, print inside the function. \n",
        "\n",
        "**Note:** Assume, each year to be 365 days and month to be 30 days.\n",
        "\n",
        "=====================================================\n",
        "\n",
        "**Hint(1):**  Divide and mod the main input to get the desired output.\n",
        "\n",
        "**Hint(2):**\n",
        "This task’s calculation is similar to Assignment-1’s seconds to hours, minutes conversion.\n",
        "\n",
        "=====================================================\n",
        "\n",
        "**Example01**\n",
        "\n",
        "**Input:**\\\n",
        "4330\\\n",
        "**Function Call:**\\\n",
        "function_name(4330)\\\n",
        "**Output:**\\\n",
        "11 years, 10 months and 15 days\n",
        "\n",
        "================================\n",
        "\n",
        "**Example02**\n",
        "\n",
        "**Input:**\\\n",
        "2250\\\n",
        "**Function Call:**\\\n",
        "function_name(2250)\\\n",
        "**Output:**\\\n",
        "6 years, 2 months and 0 days\n",
        "\n",
        "\n"
      ]
    },
    {
      "cell_type": "code",
      "metadata": {
        "id": "gkE9d9gs5D72",
        "colab": {
          "base_uri": "https://localhost:8080/"
        },
        "outputId": "8930f1ad-4193-4b0b-ad48-33a451a9a9ef"
      },
      "source": [
        "# define function to calculate the total number of years, months, and days\n",
        "\n",
        "def time_check(time):\n",
        "    year = time // 365\n",
        "    time %= 365\n",
        "    month = time // 30\n",
        "    time %= 30\n",
        "    day = time\n",
        "    print( year, 'years,', month, 'months and', day, 'days' )\n",
        "\n",
        "\n",
        "# take input from user\n",
        "\n",
        "num_1 = int(input( 'Please enter a number : ' ))\n",
        "\n",
        "time_check( num_1 )\n",
        "\n",
        "# end"
      ],
      "execution_count": null,
      "outputs": [
        {
          "output_type": "stream",
          "name": "stdout",
          "text": [
            "Please enter a number : 2250\n",
            "6 years, 2 months and 0 days\n"
          ]
        }
      ]
    },
    {
      "cell_type": "markdown",
      "metadata": {
        "id": "8-vvES0i5D8B"
      },
      "source": [
        "### Task 7\n",
        "Write a function called **show_palindrome** that takes a number as an argument and then returns a palindrome string. Finally, prints the returned value in the function call.\n",
        "\n",
        "=====================================================\n",
        "\n",
        "**Example1:** \\\n",
        "**Function Call:**\\\n",
        "show_palindrome(5)\\\n",
        "**Output:**\\\n",
        "123454321\n",
        "\n",
        "===================\n",
        "\n",
        "**Example2:** \\\n",
        "**Function Call:**\\\n",
        "show_palindrome(3)\\\n",
        "**Output:**\\\n",
        "12321\n"
      ]
    },
    {
      "cell_type": "code",
      "metadata": {
        "id": "QN-Iu8sz5D8C",
        "colab": {
          "base_uri": "https://localhost:8080/"
        },
        "outputId": "2f48a2c1-6661-4067-95fa-c207ce6c29c9"
      },
      "source": [
        "# define function to return a palindrome string\n",
        "\n",
        "def show_palindrome(number):\n",
        "    result = ''\n",
        "    for i in range(1,number+1) :\n",
        "        result += str(i)\n",
        "    result += result[-2::-1]\n",
        "    return result\n",
        "\n",
        "\n",
        "# take input from user\n",
        "\n",
        "num_1 = int(input( 'Please enter a number : ' ))\n",
        "\n",
        "print(show_palindrome( num_1 ))\n",
        "\n",
        "# end"
      ],
      "execution_count": null,
      "outputs": [
        {
          "output_type": "stream",
          "name": "stdout",
          "text": [
            "Please enter a number : 3\n",
            "12321\n"
          ]
        }
      ]
    },
    {
      "cell_type": "markdown",
      "metadata": {
        "id": "V_PVNpx45D8F"
      },
      "source": [
        "### Task 8\n",
        "Write a function called **show_palindromic_triangle** that takes a number as an argument and prints a Palindromic Triangle in the function.\n",
        "\n",
        "**<font color='blue'>[Must reuse the show_palindrome() function of the previous task]</font>**\n",
        "\n",
        "\n",
        "\n",
        "=====================================================\n",
        "\n",
        "**Hints(1):** \\\n",
        "Need to use both print() and print( , end = \" \") functions\n",
        "\n",
        "\n",
        "=====================================================\n",
        "\n",
        "**Example1:** \\\n",
        "**Function Call:**\\\n",
        "show_palindromic_triangle(5)\\\n",
        "**Output:**\n",
        "\n",
        "&emsp; &emsp; &emsp; &emsp; 1\\\n",
        "&emsp; &emsp; &emsp; 1 &nbsp; 2 &nbsp; 1 \\\n",
        "&emsp; &emsp; 1 &nbsp; 2 &nbsp; 3 &nbsp; 2 &nbsp; 1 \\\n",
        "&emsp; 1 &nbsp; 2 &nbsp; 3 &nbsp; 4 &nbsp; 3 &nbsp; 2 &nbsp; 1 \\\n",
        "1 &nbsp; 2 &nbsp; 3 &nbsp; 4 &nbsp; 5 &nbsp; 4 &nbsp; 3 &nbsp; 2 &nbsp; 1\n",
        "\n",
        "=============================================================\n",
        "\n",
        "\n",
        "**Example2:** \\\n",
        "**Function Call:**\\\n",
        "show_palindromic_triangle(3)\\\n",
        "**Output:**\n",
        "\n",
        "&emsp; &emsp; 1 \\\n",
        "&emsp; 1 &nbsp; 2 &nbsp; 1 \\\n",
        "1 &nbsp; 2 &nbsp; 3 &nbsp; 2 &nbsp; 1\n",
        "\n",
        "\n"
      ]
    },
    {
      "cell_type": "code",
      "metadata": {
        "id": "fUu0BrHz5D8G",
        "colab": {
          "base_uri": "https://localhost:8080/"
        },
        "outputId": "2e34d09d-9786-424d-e135-0c4774c99d80"
      },
      "source": [
        "# define function to return a palindrome string\n",
        "\n",
        "def show_palindrome(number):\n",
        "    result = ''\n",
        "    for i in range(1,number+1) :\n",
        "        result += str(i)\n",
        "    result += result[-2::-1]\n",
        "    return result\n",
        "\n",
        "\n",
        "# define function to print palindromic triangle\n",
        "\n",
        "def show_palindromic_triangle(number):\n",
        "    for i in range(1,number+1):\n",
        "        print( ' ' * 3 * ( number - i ) , end = '')\n",
        "        for j in show_palindrome(i):\n",
        "            print( j + '  ', end='' )\n",
        "        print()\n",
        "\n",
        "\n",
        "# take input from user\n",
        "\n",
        "num_1 = int(input( 'Please enter a number : ' ))\n",
        "\n",
        "show_palindromic_triangle( num_1 )\n",
        "\n",
        "# end"
      ],
      "execution_count": null,
      "outputs": [
        {
          "output_type": "stream",
          "name": "stdout",
          "text": [
            "Please enter a number : 3\n",
            "      1  \n",
            "   1  2  1  \n",
            "1  2  3  2  1  \n"
          ]
        }
      ]
    },
    {
      "cell_type": "markdown",
      "metadata": {
        "id": "iLTMEWXg5D8M"
      },
      "source": [
        "### Task 09\n",
        "Write a function called **area_circumference_generator** that takes a radius of a circle as a  function parameter and calculates its circumference and area. Then returns these two results as a **tuple** and prints the results using tuple unpacking in the function call accorrding to the given format. \n",
        "\n",
        "<font color='blue'>**[Must use tuple packing & unpacking]** </font>\n",
        "\n",
        "=====================================================\n",
        "\n",
        "**Example1:** \\\n",
        "**Function Call:**\\\n",
        "area_circumference_generator(1)\\\n",
        "**Output:**\\\n",
        "(3.141592653589793, 6.283185307179586)\\\n",
        "Area of the circle is 3.141592653589793 and circumference is 6.283185307179586\n",
        "\n",
        "====================================\n",
        "\n",
        "**Example2:** \\\n",
        "**Function Call:**\\\n",
        "area_circumference_generator(1.5)\\\n",
        "**Output:**\\\n",
        "(7.0685834705770345, 9.42477796076938)\\\n",
        "Area of the circle is 7.0685834705770345 and circumference is 9.42477796076938\n",
        "\n",
        "====================================\n",
        "\n",
        "\n",
        "**Example3:** \\\n",
        "**Function Call:**\\\n",
        "area_circumference_generator(2.5)\\\n",
        "**Output:**\\\n",
        "(19.634954084936208, 15.707963267948966)\\\n",
        "Area of the circle is 19.634954084936208 and circumference is 15.707963267948966\n"
      ]
    },
    {
      "cell_type": "code",
      "metadata": {
        "id": "k8SLTHf35D8N",
        "colab": {
          "base_uri": "https://localhost:8080/"
        },
        "outputId": "84d276c4-04db-4566-d879-f948a87dea88"
      },
      "source": [
        "import math\n",
        "\n",
        "# define function to calculate circumference and area of a circle\n",
        "\n",
        "def area_circumference_generator(radius):\n",
        "    area = math.pi * radius **2\n",
        "    circumference = 2 * math.pi * radius\n",
        "    return area, circumference\n",
        "\n",
        "\n",
        "# take input from user\n",
        "\n",
        "num_1 = float(input( 'Please enter the radius : ' ))\n",
        "\n",
        "area, circumference = area_circumference_generator( num_1 )\n",
        "\n",
        "print(( area, circumference ))\n",
        "print( 'Area of the circle is', area, 'and circumference is', circumference )\n",
        "\n",
        "# end"
      ],
      "execution_count": null,
      "outputs": [
        {
          "output_type": "stream",
          "name": "stdout",
          "text": [
            "Please enter the radius : 2.5\n",
            "(19.634954084936208, 15.707963267948966)\n",
            "Area of the circle is 19.634954084936208 and circumference is 15.707963267948966\n"
          ]
        }
      ]
    },
    {
      "cell_type": "markdown",
      "metadata": {
        "id": "NpgEU6ZI5D8S"
      },
      "source": [
        "### Task 10\n",
        "Write a function called **make_square** that takes a tuple in the parameter as a range of numbers (starting point and ending point (included)). The function should **return a dictionary** with the numbers as keys and its squares as values.\n",
        "\n",
        "=====================================================\n",
        "\n",
        "**Hints:** \\\n",
        "You need to declare a dictionary to store the result. You should use the range function to run the “for loop”.\n",
        "\n",
        "\n",
        "=====================================================\n",
        "\n",
        "**Example1:** \\\n",
        "**Function Call:**\\\n",
        "make_square((1,3))\\\n",
        "**Output:**\\\n",
        "{1: 1, 2: 4, 3: 9}\n",
        "\n",
        "====================================\n",
        "\n",
        "**Example2:** \\\n",
        "**Function Call:**\\\n",
        "make_square((5,9))\\\n",
        "**Output:**\\\n",
        "{5: 25, 6: 36, 7: 49, 8: 64, 9: 81}\n",
        "\n",
        "\n",
        "\n"
      ]
    },
    {
      "cell_type": "code",
      "metadata": {
        "id": "-KGD8b0F5D8T",
        "colab": {
          "base_uri": "https://localhost:8080/"
        },
        "outputId": "8346f746-19d0-4f3a-f33f-844b81674e8c"
      },
      "source": [
        "# define function to create a dictionary with numbers as keys and its squares as values\n",
        "\n",
        "def make_square( lower, upper ):\n",
        "    dict_1 = {}\n",
        "    for i in range( lower, upper+1 ):\n",
        "        dict_1[i] = i ** 2\n",
        "    return dict_1\n",
        "\n",
        "\n",
        "# take input from user\n",
        "\n",
        "num_1 = int(input( 'Please enter the lower limit : ' ))\n",
        "num_2 = int(input( 'Please enter the upper limit : ' ))\n",
        "\n",
        "print( make_square( num_1,num_2 ) )\n",
        "\n",
        "# end"
      ],
      "execution_count": null,
      "outputs": [
        {
          "output_type": "stream",
          "name": "stdout",
          "text": [
            "Please enter the lower limit : 5\n",
            "Please enter the upper limit : 9\n",
            "{5: 25, 6: 36, 7: 49, 8: 64, 9: 81}\n"
          ]
        }
      ]
    },
    {
      "cell_type": "markdown",
      "metadata": {
        "id": "J7xaBB5i5D8c"
      },
      "source": [
        "### Task 11\n",
        "Write a function called **rem_duplicate** that takes a tuple in the parameter and **return a tuple** removing all the duplicate values. Then print the returned tuple in the function call.\n",
        "\n",
        "<font color='red'>**[Cannot use remove() or removed() for this task]** </font>\n",
        "\n",
        "=====================================================\n",
        "\n",
        "**Hints:** \\\n",
        "Unlike lists, tuples are immutable so, the tuple taken as an argument cannot be modified. But list can be modified and lastly for returning the result use type conversion. You need to use membership operators (in, not in) for preventing adding any duplicates values.\n",
        "\n",
        "=====================================================\n",
        "\n",
        "\n",
        "**Example1:** \\\n",
        "**Function Call:**\\\n",
        "rem_duplicate((1,1,1,2,3,4,5,6,6,6,6,4,0,0,0))\\\n",
        "**Output:**\\\n",
        "(1, 2, 3, 4, 5, 6, 0)\n",
        "\n",
        "====================================\n",
        "\n",
        "**Example2:** \\\n",
        "**Function Call:**\\\n",
        "rem_duplicate((\"Hi\", 1, 2, 3, 3, \"Hi\",'a', 'a', [1,2]))\\\n",
        "**Output:**\\\n",
        "('Hi', 1, 2, 3, 'a', [1, 2])\n",
        "\n",
        "\n",
        "\n"
      ]
    },
    {
      "cell_type": "code",
      "metadata": {
        "id": "mniLLbJY5D8d",
        "colab": {
          "base_uri": "https://localhost:8080/"
        },
        "outputId": "d3439028-907c-4db9-bc04-02c20adb3e3c"
      },
      "source": [
        "# define function to remove duplicate values\n",
        "\n",
        "def rem_duplicate( tuple_ ):\n",
        "    list_1 = []\n",
        "    for i in tuple_:\n",
        "        if i not in list_1:\n",
        "            list_1.append(i)\n",
        "    return tuple(list_1)\n",
        "\n",
        "\n",
        "# print output\n",
        "\n",
        "print( rem_duplicate((\"Hi\", 1, 2, 3, 3, \"Hi\",'a', 'a', [1,2])) )\n",
        "\n",
        "# end"
      ],
      "execution_count": null,
      "outputs": [
        {
          "output_type": "stream",
          "name": "stdout",
          "text": [
            "('Hi', 1, 2, 3, 'a', [1, 2])\n"
          ]
        }
      ]
    },
    {
      "cell_type": "markdown",
      "metadata": {
        "id": "yJxb2yrb5D8h"
      },
      "source": [
        "### Task 12\n",
        "Write a python function that takes a list as an argument. Your task is to create a new list where **each element can be present at max 2 times**. Inside the function, print the number of elements removed from the given list. Finally, return the new list and print the result.\n",
        "\n",
        "=====================================================\n",
        "\n",
        "**Hint:** You may use list_name.count(element) to count the total number of times an element is in a list. list_name is your new list for this problem.\n",
        "\n",
        "=====================================================\n",
        "\n",
        "**Function Call:**\\\n",
        "function_name([1, 2, 3, 3, 3, 3, 4, 5, 8, 8])\\\n",
        "**Output:**\\\n",
        "Removed: 2\\\n",
        "[1, 2, 3, 3, 4, 5, 8, 8]\\\n",
        "================================\\\n",
        "**Function Call:**\\\n",
        "function_name([10, 10, 15, 15, 20])\\\n",
        "**Output:**\\\n",
        "Removed: 0\\\n",
        "[10, 10, 15, 15, 20]"
      ]
    },
    {
      "cell_type": "code",
      "metadata": {
        "id": "URBhYdgt5D8h",
        "colab": {
          "base_uri": "https://localhost:8080/"
        },
        "outputId": "69025ab0-df4d-4330-dacb-ca2af3608f83"
      },
      "source": [
        "# define function to keep maximum 2 duplicates and remove the rest of the duplicates\n",
        "\n",
        "def rem_duplicate_2( list_ ):\n",
        "    list_1 = []\n",
        "    count = 0\n",
        "    for i in list_:\n",
        "        if list_1.count(i) < 2 :\n",
        "            list_1.append(i)\n",
        "        else :\n",
        "            count += 1\n",
        "    print( 'Removed:', count )\n",
        "    return list_1\n",
        "\n",
        "\n",
        "# print output\n",
        "\n",
        "print( rem_duplicate_2([1, 2, 3, 3, 3, 3, 4, 5, 8, 8]) )\n",
        "\n",
        "# end"
      ],
      "execution_count": null,
      "outputs": [
        {
          "output_type": "stream",
          "name": "stdout",
          "text": [
            "Removed: 2\n",
            "[1, 2, 3, 3, 4, 5, 8, 8]\n"
          ]
        }
      ]
    },
    {
      "cell_type": "markdown",
      "metadata": {
        "id": "vqET24dk5D8u"
      },
      "source": [
        "### Task 13\n",
        "Write a python function that will perform the basic calculation (addition, subtraction, multiplication and division) based on 3 arguments. They are:\n",
        "- Operator ('+', '-', '/', '*')\n",
        "- First Operand (any number)\n",
        "- Second Operand (any number)\n",
        "\n",
        "Your first task is to take these arguments as user input and pass the values to the function parameters.\n",
        "\n",
        "Your second task is to write a function and performs the calculation based on the given operator. Then, finally return the result in the function call and print the result.\n",
        "\n",
        "=====================================================\n",
        "\n",
        "**Input:**\\\n",
        "\"+\"\\\n",
        "10\\\n",
        "20\\\n",
        "**Function Call:**\\\n",
        "function_name(\"+\", 10, 20)\\\n",
        "**Output:**\\\n",
        "30.0\n",
        "\n",
        "================================\n",
        "\n",
        "**Input:**\\\n",
        "\"*\"\\\n",
        "5.5\\\n",
        "2.5\\\n",
        "**Function Call:**\\\n",
        "function_name(\"*\", 5.5, 2.5)\\\n",
        "**Output:**\\\n",
        "13.75\n"
      ]
    },
    {
      "cell_type": "code",
      "metadata": {
        "id": "sh7YQRv_5D8v",
        "colab": {
          "base_uri": "https://localhost:8080/"
        },
        "outputId": "bb064626-6c35-4321-ccac-2f5392926ece"
      },
      "source": [
        "# define function to perform the basic calculation\n",
        "\n",
        "def calculator(operator, operand_1, operand_2):\n",
        "    if oprtr == '+' :\n",
        "        result = operand_1 + operand_2\n",
        "    elif oprtr == '-' :\n",
        "        result = operand_1 - operand_2\n",
        "    elif oprtr == '/' :\n",
        "        result = operand_1 / operand_2\n",
        "    elif oprtr == '*' :\n",
        "        result = operand_1 * operand_2\n",
        "    \n",
        "    return result\n",
        "\n",
        "\n",
        "# take input from the user\n",
        "\n",
        "oprtr = input( \"Please enter a Operator ('+', '-', '/', '*') : \")\n",
        "num_1 = int(input( 'Please enter the first Operand (any number) : '))\n",
        "num_2 = int(input( 'Please enter the second Operand (any number) : '))\n",
        "\n",
        "# print output\n",
        "\n",
        "print( calculator(oprtr, num_1, num_2) )\n",
        "\n",
        "# end"
      ],
      "execution_count": null,
      "outputs": [
        {
          "output_type": "stream",
          "name": "stdout",
          "text": [
            "Please enter a Operator ('+', '-', '/', '*') : *\n",
            "Please enter the first Operand (any number) : 5\n",
            "Please enter the second Operand (any number) : 10\n",
            "50\n"
          ]
        }
      ]
    },
    {
      "cell_type": "markdown",
      "metadata": {
        "id": "KGitjtfO5D83"
      },
      "source": [
        "### Task 14\n",
        "Write a function which will take 2 arguments. They are:\n",
        "- Sentence \n",
        "- position \n",
        "\n",
        "Your first task is to take these arguments as user input and pass these values to the function parameters.\n",
        "\n",
        "Your second task is to implement the function and remove the characters at the index number which is divisible by the position (Avoid the index number 0 as it will always be divisible by the position, so no need to remove the index 0 character). \n",
        "Finally, add the removed characters at the end of the new string.\n",
        "\n",
        "Return the value and then finally, print the new string at the function call.\n",
        "\n",
        "<font color='red'>**[Cannot use remove() or removed() for this task]** </font>\n",
        "\n",
        "=====================================================\n",
        "\n",
        "**Input:**\\\n",
        "\"I love programming.\"\\\n",
        "3\\\n",
        "**Function call:**\\\n",
        "function_name(\"I love programming.\", 3)\\\n",
        "**Output:**\\\n",
        "I lveprgrmmngo oai.\n",
        "\n",
        "==============================================\n",
        "\n",
        "**Input:**\\\n",
        "\"Python is easy to learn. I love python.\"\\\n",
        "6\\\n",
        "**Function call:**\\\n",
        "function_name(\"Python is easy to learn. I love python.\", 6)\\\n",
        "**Output:**\\\n",
        "Pythonis eay to earn.I lov pythn. sl eo\n"
      ]
    },
    {
      "cell_type": "code",
      "metadata": {
        "id": "1Op6YcHY5D84",
        "colab": {
          "base_uri": "https://localhost:8080/"
        },
        "outputId": "c4bf6731-7de0-409d-d5f5-99eacbc64d56"
      },
      "source": [
        "# define function to remove the characters at the index number which is divisible by the position\n",
        "\n",
        "def remover(sentence, position):\n",
        "    str_2 = ''\n",
        "    str_3 = ''\n",
        "    for i in range(len(sentence)):\n",
        "        if i % position == 0 and i != 0 :\n",
        "            str_3 += sentence[i]\n",
        "        else :\n",
        "            str_2 += sentence[i]\n",
        "    return str_2 + str_3\n",
        "\n",
        "\n",
        "# take input from the user\n",
        "\n",
        "str_1 = input( 'Please enter sentence : ' )\n",
        "num_1 = int(input( 'Please enter a numbner : ' ))\n",
        "\n",
        "# print output\n",
        "\n",
        "print( remover(str_1, num_1) )\n",
        "\n",
        "# end"
      ],
      "execution_count": null,
      "outputs": [
        {
          "output_type": "stream",
          "name": "stdout",
          "text": [
            "Please enter sentence : Python is easy to learn. I love python.\n",
            "Please enter a numbner : 6\n",
            "Pythonis eay to earn.I lov pythn. sl eo\n"
          ]
        }
      ]
    },
    {
      "cell_type": "markdown",
      "metadata": {
        "id": "5Gq0ZAzQ5D8-"
      },
      "source": [
        "### Task 15\n",
        "You have been hired as an app developer for the company. The company plans to make an app for a grocery store where the user can order groceries and see the total amount to be paid in the cart section. \n",
        "\n",
        "To build this feature, you have to write a function that takes 2 arguments. They are:\n",
        "- order_items (must be a list)\n",
        "- location (default value should be set to \"Dhanmondi\")\n",
        "\n",
        "Your first task is to take a list of items from the user. Pass the list into the function parameter along with the optional location (Use default argument technique). (Also, no need to take location as input, pass this any value you want.) \n",
        "\n",
        "Your second task is to implement the function. In the function, create a dictionary for the items shown in the table. Calculate the total price of the items passed as a list to the function. Additionally, add a delivery fee of 30 taka if the location is Dhanmondi. Otherwise, add a delivery fee of 70 taka. Finally, return the value and print it.\n",
        "\n",
        "| Item | Price(Tk) |\n",
        "| --- | --- |\n",
        "| Rice | 105 |\n",
        "| Potato | 20 |\n",
        "| Chicken | 250 |\n",
        "| Beef | 510 |\n",
        "| Oil | 85 |\n",
        "\n",
        "=====================================================\n",
        "\n",
        "**Hint:** The keys are the items and values are the corresponding price. Iterate the items in the list and check if the items in the list are available in the dictionary keys or not. If it is available, add the price.\n",
        "\n",
        "=====================================================\n",
        "\n",
        "**Example1:**\\\n",
        "function_name([\"Rice\", \"Beef\", \"Rice\"], \"Mohakhali\")\n",
        "\n",
        "total = 105 + 510 + 105 = 720 (Take the price of each item and add them.)\\\n",
        "total = 720 + 70 = 790 (Finally, add the delivery fee based on the location.)\n",
        "\n",
        "**Input:**\\\n",
        "[\"Rice\", \"Beef\", \"Rice\"]\\\n",
        "**Function Call:**\\\n",
        "function_name([\"Rice\", \"Beef\", \"Rice\"], \"Mohakhali\")\\\n",
        "**Output:**\\\n",
        "790\n",
        "\n",
        "==============================================\n",
        "\n",
        "**Example2:**\n",
        "\n",
        "function_name([\"Rice\", \"Beef\", \"Rice\"])\n",
        "\n",
        "total = 105 + 510 + 105 = 720 (Take the price of each item and add them.)\\\n",
        "total = 720 + 30 = 750 (Since no location is passed in the parameter, it will use the default location-\"Dhanmondi\". For dhanmondi, delivery fee of 30 taka)\n",
        "\n",
        "**Input:**\\\n",
        "[\"Rice\", \"Beef\", \"Rice\"]\\\n",
        "**Function Call:**\\\n",
        "function_name([\"Rice\", \"Beef\", \"Rice\"])\\\n",
        "**Output:**\\\n",
        "750"
      ]
    },
    {
      "cell_type": "code",
      "metadata": {
        "id": "KqbU53QPblRv",
        "colab": {
          "base_uri": "https://localhost:8080/"
        },
        "outputId": "bb5516e1-549c-463b-b139-59d17f4c7b7c"
      },
      "source": [
        "# define function to calculate the total amount to be paid in the cart section\n",
        "\n",
        "def groceries(order_items, location = 'Dhanmondi') :\n",
        "    dict_1 = {'Rice' : 105, 'Potato' : 20, 'Chicken' : 250, 'Beef' : 510, 'Oil' : 85}\n",
        "    result = 0\n",
        "    for i in order_items :\n",
        "        result += dict_1[i]\n",
        "    if location == 'Dhanmondi' or location == 'dhanmondi':\n",
        "        result += 30\n",
        "    else :\n",
        "        result += 70\n",
        "    return result\n",
        "        \n",
        "\n",
        "# take input from the user\n",
        "\n",
        "list_1 = input( 'Please enter your order list (separated by commas): ' )\n",
        "list_1 = list_1.split( ', ' )\n",
        "ques = input( 'Would you like to enter a location ? (Yes or No) ')\n",
        "if ques == 'Yes' :\n",
        "    str_1 = input( 'Please enter your location : ' )\n",
        "    print( groceries(list_1, str_1) )\n",
        "else :\n",
        "    print( groceries(list_1) )\n",
        "\n",
        "# end"
      ],
      "execution_count": null,
      "outputs": [
        {
          "output_type": "stream",
          "name": "stdout",
          "text": [
            "Please enter your order list (separated by commas): Rice, Beef, Rice\n",
            "Would you like to enter a location ? (Yes or No) Yes\n",
            "Please enter your location : Mohakhali\n",
            "790\n"
          ]
        }
      ]
    },
    {
      "cell_type": "markdown",
      "metadata": {
        "id": "sWkvpVVmbT5n"
      },
      "source": [
        "## Optional Tasks (16 -21) [Ungraded]"
      ]
    },
    {
      "cell_type": "markdown",
      "metadata": {
        "id": "LIi7SUJLZ4gA"
      },
      "source": [
        "### Task 16\n",
        "Write a function called **splitting_money** that takes an “amount” of money as a argument.\n",
        "\n",
        "Your first task is to take the “amount” of money as user input and pass the value to the function paramater.\n",
        " \n",
        "Your second task is to implement the function and calculate how that money can be split into 500, 100, 50, 20, 10, 5, 2, and 1 taka notes.\n",
        "\n",
        "Then print the returned value in the function call.\n",
        "\n",
        "=====================================================\n",
        "\n",
        "\n",
        "**Hints:** \\\n",
        "This task’s calculation is similar to Assignment-1’s seconds to hours, minutes conversion. To return the result containing multiple strings, you need to store it in a variable and return it at the end of the function.\n",
        "\n",
        "=====================================================\n",
        "\n",
        "\n",
        "**Example1:** \\\n",
        "If the money is 1234, then the function should return \n",
        "\n",
        "\"500 Taka: 2 note(s) \\\n",
        "100 Taka: 2 note(s) \\\n",
        "20 Taka: 1 note(s) \\\n",
        "10 Taka: 1 note(s) \\\n",
        "2 Taka: 2 note(s)\"\n",
        "\n",
        "=====================================================\n",
        "\n",
        "**Example2:** \\\n",
        "If the money is 151, then the function should return\n",
        "\n",
        "\"100 Taka: 1 note(s)\\\n",
        "50 Taka: 1 note(s)\\\n",
        "1 Taka: 1 note(s)\"\n",
        "\n",
        "\n"
      ]
    },
    {
      "cell_type": "code",
      "metadata": {
        "id": "XI1uLQ5rb2oH"
      },
      "source": [
        "# define function to split money\n",
        "\n",
        "def splitting_money(amount):\n",
        "    list_1 = [500,100,50,20,10,5,2,1]\n",
        "    dict_1 = {}\n",
        "    for i in list_1 :\n",
        "        if amount // i != 0 :\n",
        "            x = amount // i\n",
        "            amount %= i\n",
        "            dict_1[str(i)+' Taka'] = str(x) + ' note(s)'\n",
        "    return dict_1\n",
        "\n",
        "\n",
        "# take input from user\n",
        "\n",
        "num_1 = int(input( 'Please enter an amount : ' ))\n",
        "\n",
        "splitting_money( num_1 )\n",
        "\n",
        "# end"
      ],
      "execution_count": null,
      "outputs": []
    },
    {
      "cell_type": "markdown",
      "metadata": {
        "id": "VpnhnPPcab5J"
      },
      "source": [
        "### Task 17\n",
        "Write a function called **remove_odd** that takes a list of numbers that have both even and odd numbers mixed. \\\n",
        "Your function should remove all the odd numbers and **return a compact list** which only contains the even numbers. \n",
        "\n",
        "<font color='red'>**[Cannot use remove() or removed() for this task]** </font>\n",
        "\n",
        "=====================================================\n",
        "\n",
        "**Example1:** \\\n",
        "**Function Call:**\\\n",
        "remove_odd ([21, 33, 44, 66, 11, 1, 88, 45, 10, 9])\\\n",
        "**Output:**\\\n",
        "[44, 66, 88, 10]\n",
        "\n",
        "====================================\n",
        "\n",
        "**Example2:** \\\n",
        "**Function Call:**\\\n",
        "remove_odd ([11,2,3,4,5,2,0,5,3])\\\n",
        "**Output:**\\\n",
        "[2, 4, 2, 0]\n",
        "\n"
      ]
    },
    {
      "cell_type": "code",
      "metadata": {
        "id": "y4dR2jV6bAYw"
      },
      "source": [
        "#todo"
      ],
      "execution_count": null,
      "outputs": []
    },
    {
      "cell_type": "markdown",
      "metadata": {
        "id": "8qAKekKWbBnP"
      },
      "source": [
        "### Task 18\n",
        "Write a function which will take 4 arguments. They are:\n",
        "- starting value(inclusive)\n",
        "- ending value(exclusive)\n",
        "- first divisor\n",
        "- second divisor\n",
        "\n",
        "Your first task is to take these arguments as user input and pass these values to the function.\n",
        "\n",
        "Your second task is to implement the function and find all the numbers that are divisible by the <u> **first divisor or second divisor but not both**</u> from the starting value(inclusive) and ending value(exclusive). Add all the numbers that are divisible and finally return this value. Print the returned value in the function call.\n",
        "\n",
        "=====================================================\n",
        "\n",
        "**Input:**\\\n",
        "10\\\n",
        "40\\\n",
        "4\\\n",
        "7\\\n",
        "**Function Call:**\\\n",
        "function_name(10, 40, 4, 7)\\\n",
        "**Output:**\\\n",
        "210\\\n",
        "================================\\\n",
        "**Input:**\\\n",
        "5\\\n",
        "100\\\n",
        "3\\\n",
        "4\\\n",
        "**Function Call:**\\\n",
        "function_name(5, 100, 3, 4)\\\n",
        "**Output:**\\\n",
        "2012\n",
        "\n",
        "\n"
      ]
    },
    {
      "cell_type": "code",
      "metadata": {
        "id": "-vQ3gIWm5D8-"
      },
      "source": [
        "#todo"
      ],
      "execution_count": null,
      "outputs": []
    },
    {
      "cell_type": "markdown",
      "metadata": {
        "id": "0poe59Q-aAtP"
      },
      "source": [
        "### Task 19\n",
        "Write a python function which will take a string as an argument. \n",
        "\n",
        "Your first task is to take a string as user input and pass the value to the function.\n",
        "\n",
        "Your second task is to implement a function which will check whether all the alphabets from a to j (convert all the alphabets to lowercase) has appeared at least once in the given string or not. \n",
        "- If all of these alphabets (a to j) appear at least once, then the result will be 5. \n",
        "- If any one of the alphabets (a to j) is not in the given string, then the result will be 6.\n",
        "\n",
        "Return this result and print the statement, \"PSG will win the Champions League this season\" that many times.\n",
        "\n",
        "=====================================================\n",
        "\n",
        "**Example01:**\n",
        "\"A black jackal is hunting a full grown deer\" \n",
        "\n",
        "Here all the alphabets from A to J are present at least once. So, the function will return 5 and will print the statement 5 times.\n",
        "\n",
        "**Input:**\\\n",
        "\"A black jackal is hunting a full grown deer\"\\\n",
        "**Function Call:**\\\n",
        "function_name(\"A black jackal is hunting a full grown deer\")\\\n",
        "**Output:**\\\n",
        "PSG will win the Champions League this season\\\n",
        "PSG will win the Champions League this season\\\n",
        "PSG will win the Champions League this season\\\n",
        "PSG will win the Champions League this season\\\n",
        "PSG will win the Champions League this season\n",
        "\n",
        "==============================================\n",
        "\n",
        "**Example02:**\n",
        "\n",
        "**Input:**\\\n",
        "\"ABBCDEFEFGHI\"\\\n",
        "**Function Call:**\\\n",
        "function_name(\"ABBCDEFEFGHI\")\\\n",
        "**Output:**\\\n",
        "PSG will win the Champions League this season\\\n",
        "PSG will win the Champions League this season\\\n",
        "PSG will win the Champions League this season\\\n",
        "PSG will win the Champions League this season\\\n",
        "PSG will win the Champions League this season\\\n",
        "PSG will win the Champions League this season\n"
      ]
    },
    {
      "cell_type": "code",
      "metadata": {
        "id": "uQRx3Kclb57h"
      },
      "source": [
        "#todo"
      ],
      "execution_count": null,
      "outputs": []
    },
    {
      "cell_type": "markdown",
      "metadata": {
        "id": "NTujbqM7cz8e"
      },
      "source": [
        "### Task 20\n",
        "Write a function called **individul_bonus_calculation** which will take 4 arguments. They are:\n",
        "\n",
        "- The player name\n",
        "- Yearly earning of that player\n",
        "- The total goal scored this season by that player\n",
        "- Bonus percent per goal.\n",
        "\n",
        "\n",
        "Your task is to implement the above-mentioned function that will calculate the total bonus on the yearly earnings of a player for the total goals he had scored.\n",
        "\n",
        "Additionally, \n",
        " * If the goal scored is above 30, add a (additional) bonus of 10000 taka.\n",
        " * If it is between 20 and 30 inclusive, add an extra 5000 taka.\n",
        "\n",
        "<font color='blue'>[ For this task, no need to take any input from the user. Call the functions and print the values inside the function. ] </font>\n",
        "\n",
        "\n",
        "\n",
        "=====================================================\n",
        "\n",
        "**Example1:**\\\n",
        "individul_bonus_calculation(\"Neymar\", 1200000, 35, 5)\n",
        "\n",
        "bonus = 35 * (5 / 100 * 1200000) + 10000 = 2110000\n",
        "\n",
        "**Function call:**\\\n",
        "individul_bonus_calculation(\"Neymar\", 1200000, 35, 5)\\\n",
        "**Output:**\\\n",
        "Neymar earned a bonus of  2110000 Taka for 35 goals.\n",
        "\n",
        "=====================================================\n",
        "\n",
        "**Example2:**\\\n",
        "individul_bonus_calculation('Jamal', 700000, 19, 8)\n",
        "\n",
        "bonus = 19 * (8 / 100 * 700000) + 0 = 1064000\n",
        "\n",
        "**Function call:**\\\n",
        "individul_bonus_calculation('Jamal', 700000, 19, 8)\\\n",
        "**Output:**\\\n",
        "Jamal earned a bonus of 1064000 Taka for 19 goals.\n",
        "\n",
        "=====================================================\n",
        "\n",
        "**Example3:**\\\n",
        "individul_bonus_calculation('Luis', 80000, 25, 10)\n",
        "\n",
        "bonus = 25 * (10 / 100 * 80000) + 5000 = 205000\n",
        "\n",
        "**Function call:**\\\n",
        "individul_bonus_calculation('Luis', 80000, 25, 10)\\\n",
        "**Output:**\\\n",
        "Luis earned a bonus of 205000 Taka for 25 goals.\n",
        "\n",
        "====================================================="
      ]
    },
    {
      "cell_type": "markdown",
      "metadata": {
        "id": "pRU4EhuSh_r-"
      },
      "source": [
        "### Task 21\n",
        "You have been hired by the Abahani football club to write a function that will calculate the total bonus on the yearly earnings of each player for the total goals they have scored.\n",
        "\n",
        "Since the number of players will vary, you decide to use the \"*args\" technique that you learned in your CSE110 class. \n",
        "\n",
        "For each player: pass the name, yearly earning, the total goal scored this season, bonus percent per goal. \n",
        "\n",
        "Additionally, \n",
        " * If the goal scored is above 30, add an extra bonus of 10000 taka. \n",
        " * If it is between 20 and 30 inclusive, add an extra 5000 taka.\n",
        "\n",
        "<font color='blue'>[ For this task, no need to take any input from the user. Call the functions and print the values inside the function. ] </font>\n",
        "\n",
        "**<font color='blue'>[Must reuse the individul_bonus_calculation() function of the previous task]</font>**\n",
        "\n",
        "\n",
        "=====================================================\n",
        "\n",
        "**Example1:**\\\n",
        "cal_bonus(\"Neymar\", 1200000, 35, 5)\n",
        "\n",
        "bonus = 35 * (5 / 100 * 1200000) + 10000 = 2110000\n",
        "\n",
        "**Function call:**\\\n",
        "cal_bonus(\"Neymar\", 1200000, 35, 5)\\\n",
        "**Output:**\\\n",
        "Neymar earned a bonus of  2110000 Taka for 35 goals.\n",
        "\n",
        "=====================================================\n",
        "\n",
        "**Example2:**\\\n",
        "**Function call:**\\\n",
        "function_name(\"Neymar\", 1200000, 30, 10, \"Jamal\", 700000, 19, 5)\\\n",
        "**Output:**\\\n",
        "Neymar earned a bonus of 3605000 Taka for 30 goals.\\\n",
        "Jamal earned a bonus of 665000 Taka for 19 goals.\n",
        "\n",
        "\n",
        "=====================================================\n",
        "\n",
        "**Example3:**\\\n",
        "**Function call:**\\\n",
        "function_name(\"Neymar\", 1200000, 35, 5, 'Jamal', 700000, 19, 8, 'Luis', 80000, 25, 10))\\\n",
        "**Output:**\\\n",
        "Neymar earned a bonus of 2110000 Taka for 35 goals.\\\n",
        "Jamal earned a bonus of 1064000 Taka for 19 goals.\\\n",
        "Luis earned a bonus of 205000 Taka for 25 goals.\n",
        "\n"
      ]
    },
    {
      "cell_type": "code",
      "metadata": {
        "id": "IIz3msUa5D9B"
      },
      "source": [
        "# to do"
      ],
      "execution_count": null,
      "outputs": []
    }
  ]
}