{
  "nbformat": 4,
  "nbformat_minor": 0,
  "metadata": {
    "kernelspec": {
      "display_name": "Python 3",
      "language": "python",
      "name": "python3"
    },
    "language_info": {
      "codemirror_mode": {
        "name": "ipython",
        "version": 3
      },
      "file_extension": ".py",
      "mimetype": "text/x-python",
      "name": "python",
      "nbconvert_exporter": "python",
      "pygments_lexer": "ipython3",
      "version": "3.7.6"
    },
    "colab": {
      "name": "A3_21201301_Mahadi Ibne Bakar_12_CSE110Assignment3.ipynb",
      "provenance": [],
      "collapsed_sections": []
    }
  },
  "cells": [
    {
      "cell_type": "markdown",
      "metadata": {
        "id": "xDNsncrtU1yM"
      },
      "source": [
        "# CSE110 Lab Assignment 3\n",
        "\n",
        "This Assignment is to help you develop your concept of Strings in Python."
      ]
    },
    {
      "cell_type": "markdown",
      "metadata": {
        "id": "KD4EKJf6U1yQ"
      },
      "source": [
        "## Write the code in Python to do the following tasks:\n",
        "\n",
        "**<font color='red'>[MUST MAINTAIN VARIABLE NAMING CONVENTIONS FOR ALL THE TASKS]</font>**\n",
        "\n",
        "\n",
        "### Task 1 \n",
        "\n",
        "Write a Python program that will ask the user to input a string (containing exactly one word). Then your program should print subsequent substrings of the given string as shown in the examples below.\n",
        "\n",
        "=====================================================================\n",
        "\n",
        "**Example 1:**\\\n",
        "Input:\\\n",
        "BANGLA\n",
        "\n",
        "Output:\\\n",
        "B\\\n",
        "BA\\\n",
        "BAN\\\n",
        "BANG\\\n",
        "BANGL\\\n",
        "BANGLA\n",
        "\n",
        "=====================================================================\n",
        "\n",
        "**Example 2:**\\\n",
        "Input:\\\n",
        "DREAM\n",
        "\n",
        "Output:\\\n",
        "D\\\n",
        "DR\\\n",
        "DRE\\\n",
        "DREA\\\n",
        "DREAM\n",
        "\n",
        "=====================================================================\n",
        "\n",
        "**Hints(1):** You may use \"for loop\" for this task.\n",
        "\n",
        "**Hints(2):** You may use print() function for printing newlines.\n",
        "\n",
        "For example:\\\n",
        "print(1)\\\n",
        "print(2)\n",
        "\n",
        "Output:\\\n",
        "1\\\n",
        "2\n",
        "\n",
        "=====================================================================\n",
        "\n",
        "We can use print(end = \"\") to skip printing the additional newline.\n",
        "\n",
        "For example:\\\n",
        "print(1, end =\"\")\\\n",
        "print(2)\n",
        "\n",
        "Output:(prints the following output right next to the previous one)\\\n",
        "12\n",
        "\n",
        "=====================================================================\n",
        "\n",
        "\n",
        "\n",
        "\n"
      ]
    },
    {
      "cell_type": "code",
      "metadata": {
        "id": "vJhpmj2XU1yR",
        "colab": {
          "base_uri": "https://localhost:8080/"
        },
        "outputId": "00ac12fd-aa26-4286-ba68-13a8bbdd5aec"
      },
      "source": [
        "# take input from user\n",
        "\n",
        "word_1 = input( 'Please enter a string (only one word) : ')\n",
        "\n",
        "# set condition\n",
        "\n",
        "for i in range(len(word_1)+1) :\n",
        "    print(word_1[:i])\n",
        "\n",
        "# end"
      ],
      "execution_count": null,
      "outputs": [
        {
          "output_type": "stream",
          "name": "stdout",
          "text": [
            "Please enter a string (only one word) : DREAM\n",
            "\n",
            "D\n",
            "DR\n",
            "DRE\n",
            "DREA\n",
            "DREAM\n"
          ]
        }
      ]
    },
    {
      "cell_type": "markdown",
      "metadata": {
        "id": "pbdeIVcyU1yi"
      },
      "source": [
        "### Task 2\n",
        "\n",
        "Write a Python program that will ask the user to enter a  word as an input. \n",
        "\n",
        "* If the length of the input string is less than 4, then your program should print the same string as an output. \n",
        "* If the input string’s length is greater than 3, then your program should add \"er\" at the end of the input string. \n",
        "* If the input string already ends with \"er\", then add \"est\" instead. \n",
        "* If the input string already ends with \"est\", then your program should print the same input string as an output.\n",
        "\n",
        "=====================================================================\n",
        "\n",
        "**Example 1:**\\\n",
        "Input: strong\\\n",
        "Output: stronger\n",
        "\n",
        "=====================================================================\n",
        "\n",
        "**Example 2:**\\\n",
        "Input: stronger\\\n",
        "Output: strongest\n",
        "\n",
        "=====================================================================\n",
        "\n",
        "**Example 3:**\\\n",
        "Input: strongest\\\n",
        "Output: strongest\n",
        "\n",
        "=====================================================================\n",
        "\n",
        "**Example 4:**\\\n",
        "Input: abc\\\n",
        "Output: abc\n",
        "\n",
        "====================================================================="
      ]
    },
    {
      "cell_type": "code",
      "metadata": {
        "colab": {
          "base_uri": "https://localhost:8080/"
        },
        "id": "UuDTFUXQqURY",
        "outputId": "12edcd34-efb2-4d0c-a8fe-0235982e9b85"
      },
      "source": [
        "# take input from user\n",
        "\n",
        "word_1 = input( 'Please enter a word : ')\n",
        "\n",
        "# set condition\n",
        "\n",
        "if len( word_1 ) < 4 :\n",
        "    print( word_1 )\n",
        "\n",
        "if len( word_1 ) > 3 :\n",
        "    if word_1.endswith('er') :\n",
        "        print( word_1.replace('er','est') )\n",
        "    elif word_1.endswith('est') :\n",
        "        print( word_1 )\n",
        "    else :\n",
        "        print(word_1 + 'er')\n",
        "\n",
        "\n",
        "# end"
      ],
      "execution_count": null,
      "outputs": [
        {
          "output_type": "stream",
          "name": "stdout",
          "text": [
            "Please enter a word : Stronger\n",
            "Strongest\n"
          ]
        }
      ]
    },
    {
      "cell_type": "markdown",
      "metadata": {
        "id": "PsBbgc4YU1yp"
      },
      "source": [
        "### Task 3\n",
        "\n",
        "Write a Python program that will ask the user to input a string (containing exactly one word). Then print the ASCII code for each character in the String using the ord() function. \n",
        "\n",
        "To check if your program is working correctly or not, you can find a list of all correct values from the following website. You may look at “Dec” and “Char” columns only and ignore the other columns for this problem.\\\n",
        "link: http://www.asciitable.com/\n",
        "\n",
        "=====================================================================\n",
        "\n",
        "**Example 1:**\\\n",
        "Input: Programming\\\n",
        "Output:\\\n",
        "P : 80\\\n",
        "r : 114\\\n",
        "o : 111\\\n",
        "g : 103\\\n",
        "r : 114\\\n",
        "a : 97\\\n",
        "m : 109\\\n",
        "m : 109\\\n",
        "i : 105\\\n",
        "n : 110\\\n",
        "g : 103\n",
        "\n",
        "=====================================================================\n",
        "\n",
        "**Example 2:**\\\n",
        "Input: hunger\\\n",
        "Output:\\\n",
        "h : 104\\\n",
        "u : 117\\\n",
        "n : 110\\\n",
        "g : 103\\\n",
        "e : 101\\\n",
        "r : 114 \n",
        "\n",
        "====================================================================="
      ]
    },
    {
      "cell_type": "code",
      "metadata": {
        "id": "r8by7ONZU1ys",
        "colab": {
          "base_uri": "https://localhost:8080/"
        },
        "outputId": "fc3265f6-2963-4c71-99d4-a4881a744d5e"
      },
      "source": [
        "# take input from user\n",
        "\n",
        "word_1 = input( 'Please enter a string (only one word) : ')\n",
        "\n",
        "# set condition\n",
        "\n",
        "for i in range( len(word_1) ) :\n",
        "    print( word_1[i], ':', ord(word_1[i]) )\n",
        "\n",
        "# end"
      ],
      "execution_count": null,
      "outputs": [
        {
          "output_type": "stream",
          "name": "stdout",
          "text": [
            "Please enter a string (only one word) : Programming\n",
            "P : 80\n",
            "r : 114\n",
            "o : 111\n",
            "g : 103\n",
            "r : 114\n",
            "a : 97\n",
            "m : 109\n",
            "m : 109\n",
            "i : 105\n",
            "n : 110\n",
            "g : 103\n"
          ]
        }
      ]
    },
    {
      "cell_type": "markdown",
      "metadata": {
        "id": "O8lIVppgU1yw"
      },
      "source": [
        "### Task 4\n",
        "\n",
        "Take a string as a input from the user with all small letters. Then print the next alphabet in sequence for each alphabet found in the input.\n",
        "\n",
        "=====================================================================\n",
        "\n",
        "\n",
        "*Hint: You may need to use the functions ord() and chr(). The ASCII value of ‘a’ is 97 and ‘z’ is 122.*\n",
        "\n",
        "=====================================================================\n",
        "\n",
        "**Example 1:**\\\n",
        "Input: abcd\\\n",
        "Output: bcde\n",
        "\n",
        "=====================================================================\n",
        "\n",
        "**Example 2:**\\\n",
        "Input: the cow\\\n",
        "Output: uif!dpx\n",
        "\n",
        "=====================================================================\n",
        "\n",
        "**Example 3: <font color='red'>[Must fulfil this criteria]</font>**\\\n",
        "Input: xyzabc\\\n",
        "Output: yzabcd\n",
        "\n",
        "=====================================================================\n"
      ]
    },
    {
      "cell_type": "code",
      "metadata": {
        "id": "Hyvy8WNNU1yx",
        "colab": {
          "base_uri": "https://localhost:8080/"
        },
        "outputId": "16b20869-f8f9-4448-ba38-6a134c2880ad"
      },
      "source": [
        "# take input from user\n",
        "\n",
        "word_1 = input( 'Please enter a string (all small letters) : ')\n",
        "\n",
        "# set condition\n",
        "\n",
        "for i in range( len(word_1) ) :\n",
        "    if word_1[i] == 'z' :\n",
        "        print( 'a' , end='' )\n",
        "    else :\n",
        "        print( chr(ord(word_1[i])+1) , end='' )\n",
        "\n",
        "# end"
      ],
      "execution_count": null,
      "outputs": [
        {
          "output_type": "stream",
          "name": "stdout",
          "text": [
            "Please enter a string (all small letters) : xyzabc\n",
            "yzabcd"
          ]
        }
      ]
    },
    {
      "cell_type": "markdown",
      "metadata": {
        "id": "leVtdAsdymXM"
      },
      "source": [
        "### Task 5\n",
        "\n",
        "Write a Python program that will ask the user to enter two strings (s1, s2) as an input. Then create a mixed string with alternative characters from each string. Any leftover chars will be appended at the end of the resulting string.\n",
        "\n",
        "=====================================================================\n",
        "\n",
        "*Hint: For adding the leftover characters you may use string slicing.*\n",
        "\n",
        "=====================================================================\n",
        "\n",
        "**Example 1:**\\\n",
        "Input:\\\n",
        "ABCD\\\n",
        "efgh\n",
        "\n",
        "Output:\\\n",
        "AeBfCgDh\n",
        "\n",
        "=====================================================================\n",
        "\n",
        "**Example 2:**\\\n",
        "Input:\\\n",
        "ABCDENDFGH\\\n",
        "ijkl\n",
        "\n",
        "Output:\\\n",
        "AiBjCkDlENDFGH\n",
        "\n",
        "=====================================================================\n",
        "\n",
        "**Example 3:**\\\n",
        "Input:\\\n",
        "ijkl\\\n",
        "ABCDENDFGH\n",
        "\n",
        "Output:\\\n",
        "iAjBkClDENDFGH\n",
        "\n",
        "=====================================================================\n"
      ]
    },
    {
      "cell_type": "code",
      "metadata": {
        "id": "kC1cq47myny6",
        "colab": {
          "base_uri": "https://localhost:8080/"
        },
        "outputId": "0c89b28a-9fde-4cd8-eab6-1316e4d042e8"
      },
      "source": [
        "# take input from user\n",
        "\n",
        "word_1 = input( 'Please enter a string : ')\n",
        "word_2 = input( 'Please enter another string : ')\n",
        "\n",
        "# set condition\n",
        "\n",
        "\n",
        "if len(word_1) > len(word_2) :\n",
        "    for i in range (len(word_2)) :\n",
        "        print( word_1[i], end='' )\n",
        "        print( word_2[i], end='' )\n",
        "    print(word_1[i+1:])\n",
        "else :\n",
        "    for i in range (len(word_1)) :\n",
        "        print( word_1[i], end='' )\n",
        "        print( word_2[i], end='' )\n",
        "    print(word_2[i+1:])\n",
        "\n",
        "# end"
      ],
      "execution_count": null,
      "outputs": [
        {
          "output_type": "stream",
          "name": "stdout",
          "text": [
            "Please enter a string : ijkl\n",
            "Please enter another string : ABCDENDFGH\n",
            "iAjBkClDENDFGH\n"
          ]
        }
      ]
    },
    {
      "cell_type": "markdown",
      "metadata": {
        "id": "AWQJrJW3U1y3"
      },
      "source": [
        "### Task 6\n",
        "Given a string, create a new string with all the **consecutive duplicates removed**. \n",
        "\n",
        "=====================================================================\n",
        "\n",
        "**Hint:** You may make a new string to store the result. You can check whether the current character and the next character are the same, then add that character to the new string.\n",
        "\n",
        "=====================================================================\n",
        "\n",
        "\n",
        "**Sample Input**:\\\n",
        "AAABBBBCDDBBECE\n",
        "\n",
        "**Sample Output:**\\\n",
        "ABCDBECE\n",
        "\n",
        "=====================================================================\n"
      ]
    },
    {
      "cell_type": "code",
      "metadata": {
        "id": "oNv_JNgUU1y4",
        "colab": {
          "base_uri": "https://localhost:8080/"
        },
        "outputId": "2a701757-caf6-4977-f316-06eb3d7c5955"
      },
      "source": [
        "# take input from user\n",
        "\n",
        "word_1 = input( 'Please enter a string : ')\n",
        "\n",
        "chrctr = ''\n",
        "\n",
        "# set condition\n",
        "\n",
        "for i in word_1 :\n",
        "    if i != chrctr :\n",
        "        print( i ,end='' )\n",
        "        chrctr = i\n",
        "\n",
        "# end"
      ],
      "execution_count": null,
      "outputs": [
        {
          "output_type": "stream",
          "name": "stdout",
          "text": [
            "Please enter a string : AAABBBBCDDBBECE\n",
            "ABCDBECE"
          ]
        }
      ]
    },
    {
      "cell_type": "markdown",
      "metadata": {
        "id": "4zI6tmFN0i4y"
      },
      "source": [
        "### Task 7\n",
        "\n",
        "Write a python program that takes 2 inputs from the user, where the first input is a string with length greater than 1. The second input is the index of the first given string from where you have to start reversing. Then print the new string back to the user.\n",
        "\n",
        "=====================================================================\n",
        "\n",
        "**Sample Input 1:**\n",
        "\n",
        "72418\n",
        "\n",
        "4\n",
        "\n",
        "**Sample Output 1:**\n",
        "\n",
        "81427\n",
        "\n",
        "\n",
        "**Explanation**: Our second input, index '4' is the last index of our first input String '72418', hence the entire string is reversed giving us '81427'.\n",
        "\n",
        "=====================================================================\n",
        "\n",
        "**Sample Input 2:**\n",
        "\n",
        "12345 \n",
        "\n",
        "2\n",
        "\n",
        "**Sample Output 2:**\n",
        "\n",
        "32145\n",
        "\n",
        "**Explanation**: The second input is '2' so we have to reverse from index 2 of our first input. The 2nd index of our first input String is '3', index 1 is '2' and index 0 is '1'. Hence, if we reverse indexes 0 to 2, we get '321'. Index 3 and 4 which is '4' and '5' respectively remains unchanged hence our final output is '32145'.\n",
        "\n",
        "=====================================================================\n",
        "\n",
        "**Sample Input 3:**\n",
        "\n",
        "aBcd1234defg\n",
        "\n",
        "5\n",
        "\n",
        "**Sample Output 3:**\n",
        "\n",
        "21dcBa34defg\n",
        "\n",
        "**Explanation**: From our first input String 'aBcd1234defg', \n",
        "\n",
        "index 0 = 'a'\n",
        "\n",
        "index 1 = 'B'\n",
        "\n",
        "index 2 = 'c'\n",
        "\n",
        "index 3 = 'd'\n",
        "\n",
        "index 4 = '1'\n",
        "\n",
        "index 5 = '2'\n",
        "\n",
        "index 6 = '3'\n",
        "\n",
        "Since our second input is 5, index 0 to index 5 is reversed and we have '21dcBa' and the rest is unchanged from indexes 6 to 11 ('34defg'). Therefore, we have '21dcBa34defg' finally.\n",
        "\n",
        "=====================================================================\n"
      ]
    },
    {
      "cell_type": "code",
      "metadata": {
        "id": "NoqaHxEq81np",
        "colab": {
          "base_uri": "https://localhost:8080/"
        },
        "outputId": "a3269508-bd77-4cb8-97ec-dbbd151e8dc7"
      },
      "source": [
        "# take input from user\n",
        "\n",
        "word_1 = input( 'Please enter a string (it\\'s length should be greater then 1) : ')\n",
        "num_1 = int(input( 'Please enter an index number : '))\n",
        "\n",
        "# print output\n",
        "\n",
        "print(word_1[num_1::-1],end='')\n",
        "print(word_1[num_1+1:])\n",
        "\n",
        "# end"
      ],
      "execution_count": null,
      "outputs": [
        {
          "output_type": "stream",
          "name": "stdout",
          "text": [
            "Please enter a string (it's length should be greater then 1) : 21dcBa34defg\n",
            "Please enter an index number : 5\n",
            "aBcd1234defg\n"
          ]
        }
      ]
    },
    {
      "cell_type": "markdown",
      "metadata": {
        "id": "G1KGod9C87t_"
      },
      "source": [
        "### Task 8\n",
        "\n",
        "Write a python program that splits a given string on a given split character. The first input is a String and the second input is the character that will be used to split the first String. <font color='red'>[You cannot use the built-in split function]</font>\n",
        "\n",
        "=====================================================================\n",
        "\n",
        "**Sample Input 1:**<br/>\n",
        "This-is-CSE110<br/>\n",
        "-<br/>\n",
        "\n",
        "**Sample Output 1:**<br/>\n",
        "This<br/>\n",
        "is<br/>\n",
        "CSE110\n",
        "\n",
        "**Explanation**: The second input which is the character '-', is used to split or divide the first input String 'This-is-CSE110' into 'This', 'is' and 'CSE110' which are printed individually in seperate lines.\n",
        "\n",
        "=====================================================================\n",
        "\n",
        "**Sample Input 2**:\n",
        "tom@gmail,harry@yahoo,bob@gmail,mary@gmail\n",
        "\n",
        ",\n",
        "\n",
        "**Sample Output 2**:\n",
        "\n",
        "tom@gmail\n",
        "\n",
        "harry@yahoo\n",
        "\n",
        "bob@gmail\n",
        "\n",
        "mary@gmail\n",
        "\n",
        "====================================================================="
      ]
    },
    {
      "cell_type": "code",
      "metadata": {
        "id": "A9zuROkY9qre",
        "colab": {
          "base_uri": "https://localhost:8080/"
        },
        "outputId": "28a9fd36-2d57-492f-e795-f1b9bede13dc"
      },
      "source": [
        "# take input from user\n",
        "\n",
        "word_1 = input( 'Please enter a string : ')\n",
        "chrctr_1 = input( 'Please enter a split character : ')\n",
        "\n",
        "# set condition\n",
        "\n",
        "for i in word_1 :\n",
        "    if i == chrctr_1 :\n",
        "        print()\n",
        "    else :\n",
        "        print(i,end='')\n",
        "\n",
        "# end"
      ],
      "execution_count": null,
      "outputs": [
        {
          "output_type": "stream",
          "name": "stdout",
          "text": [
            "Please enter a string : tom@gmail,harry@yahoo,bob@gmail,mary@gmail\n",
            "Please enter a split character : ,\n",
            "tom@gmail\n",
            "harry@yahoo\n",
            "bob@gmail\n",
            "mary@gmail"
          ]
        }
      ]
    },
    {
      "cell_type": "markdown",
      "metadata": {
        "id": "lPoDvm8YU1y9"
      },
      "source": [
        "### Task 9\n",
        "\n",
        "Suppose you are given two strings, s1, and s2. Now, print a new string made up of the last characters and then the first characters of the input strings.\n",
        "\n",
        "=====================================================================\n",
        "\n",
        "**Sample Input 1**:\n",
        "\n",
        "s1 = new\n",
        "\n",
        "s2= string\n",
        "\n",
        "**Sample Output 1**:\n",
        "\n",
        "gwsn\n",
        "\n",
        "**Explanation:** The last character of the String s2 is 'g'. The last character of the String s1 is 'w'. The first character of the String s2 is 's'. The first character of the String s1 is 'n'. Together they give us the ouput we want 'gwsn'.\n",
        "\n",
        "=====================================================================\n",
        "\n",
        "**Sample Input 2**:\n",
        "\n",
        "s1 = abcd\n",
        "\n",
        "s2= efgh\n",
        "\n",
        "**Sample Output 2**: \n",
        "\n",
        "hdea\n",
        "\n",
        "**Explanation:** The last characters of the Strings s2 and s1 is 'h' and 'd' respectively while the first characters of the Strings is 'e' and 'a' respectively. Together they give us the ouput we want 'gwsn'.\n",
        "\n",
        "=====================================================================\n"
      ]
    },
    {
      "cell_type": "code",
      "metadata": {
        "id": "z26BN9B3U1y_",
        "colab": {
          "base_uri": "https://localhost:8080/"
        },
        "outputId": "d114681a-76f6-4c5d-d0c4-56807099712c"
      },
      "source": [
        "# take input from user\n",
        "\n",
        "word_1 = input( 'Please enter a string : ')\n",
        "word_2 = input( 'Please enter another string : ')\n",
        "\n",
        "# print output\n",
        "\n",
        "print(word_2[-1]+word_1[-1]+word_2[0]+word_1[0])\n",
        "\n",
        "# end"
      ],
      "execution_count": null,
      "outputs": [
        {
          "output_type": "stream",
          "name": "stdout",
          "text": [
            "Please enter a string : abcd\n",
            "Please enter another string : efgh\n",
            "hdea\n"
          ]
        }
      ]
    },
    {
      "cell_type": "markdown",
      "metadata": {
        "id": "ZrjtT-I_U1zD"
      },
      "source": [
        "### Task 10\n",
        "\n",
        "Write a Python program that takes a String as input from the user, removes the characters at even index and prints the resulting String in uppercase.\n",
        "\n",
        "=====================================================================\n",
        "\n",
        "**Sample Input 1**:\n",
        "\n",
        "String\n",
        "\n",
        "**Sample Output 1**: \n",
        "\n",
        "TIG\n",
        "\n",
        "**Explanation**: The characters 'S', 'r' and 'n' are at index positions 0, 2, and 4 respectively. Hence they are removed and the remaining characters 'tig' are capitalized giving us output 'TIG'.\n",
        "\n",
        "=====================================================================\n",
        "\n",
        "**Sample Input 2**:\n",
        "\n",
        "abcd\n",
        "\n",
        "**Sample Output 2**: \n",
        "\n",
        "BD\n",
        "\n",
        "=====================================================================\n"
      ]
    },
    {
      "cell_type": "code",
      "metadata": {
        "id": "3r7Ripj7U1zE",
        "colab": {
          "base_uri": "https://localhost:8080/"
        },
        "outputId": "6fe21b51-5b78-4488-ed67-db1d5db1e5f7"
      },
      "source": [
        "# take input from user\n",
        "\n",
        "word_1 = input( 'Please enter a string : ')\n",
        "\n",
        "# remove characters at even index\n",
        "\n",
        "word_1 = word_1[1::2]\n",
        "\n",
        "# print the output\n",
        "\n",
        "print(word_1.upper())\n",
        "\n",
        "#end"
      ],
      "execution_count": null,
      "outputs": [
        {
          "output_type": "stream",
          "name": "stdout",
          "text": [
            "Please enter a string : abcd\n",
            "BD\n"
          ]
        }
      ]
    },
    {
      "cell_type": "markdown",
      "metadata": {
        "id": "AWgZaBZCzmaM"
      },
      "source": [
        "### Task 11\n",
        "\n",
        "Write a python program that takes two inputs. The first input is a string and the second input is a number. If the number is even then concatenate the given string two times the given number and if the number is odd then concatenate the given string three times the given number.\n",
        "\n",
        "=====================================================================\n",
        "\n",
        "**Sample Input 1**:\n",
        "\n",
        "CSE110\n",
        "\n",
        "4\n",
        "\n",
        "**Sample output 1**:\n",
        "\n",
        "CSE110CSE110CSE110CSE110CSE110CSE110CSE110CSE110\n",
        "\n",
        "**Explanation**: The second input which is the number 4 is even, therefore the first string input 'CSE110' is concatenated(joined together) 4*2 = 8 times.\n",
        "\n",
        "=====================================================================\n",
        "\n",
        "**Sample Input 2**:\n",
        "\n",
        "CSE110\n",
        "\n",
        "3\n",
        "\n",
        "**Sample Output 2**:\n",
        "\n",
        "CSE110CSE110CSE110CSE110CSE110CSE110CSE110CSE110CSE110\n",
        "\n",
        "=====================================================================\n"
      ]
    },
    {
      "cell_type": "code",
      "metadata": {
        "id": "ICW-03YOznTp",
        "colab": {
          "base_uri": "https://localhost:8080/"
        },
        "outputId": "e72eb847-c114-4045-d5ea-638050487e28"
      },
      "source": [
        "# take input from user\n",
        "\n",
        "word_1 = input( 'Please enter a string : ')\n",
        "num_1 = int(input( 'Please enter a number : '))\n",
        "\n",
        "# set condition\n",
        "\n",
        "if num_1 % 2 == 0 :\n",
        "    print( word_1 * ( num_1 * 2 ) )\n",
        "else :\n",
        "    print( word_1 * ( num_1 * 3 ) )\n",
        "\n",
        "# end"
      ],
      "execution_count": null,
      "outputs": [
        {
          "output_type": "stream",
          "name": "stdout",
          "text": [
            "Please enter a string : CSE110\n",
            "Please enter a number : 3\n",
            "CSE110CSE110CSE110CSE110CSE110CSE110CSE110CSE110CSE110\n"
          ]
        }
      ]
    },
    {
      "cell_type": "markdown",
      "metadata": {
        "id": "7a_1pYjfU1zI"
      },
      "source": [
        "### Task 12\n",
        "\n",
        "Write a python program that takes 2 inputs from the user. The first input is a string and the second input is a letter. The program should remove all occurences of the letter from the given string and print the output. If the letter is not found in the string and the length of string is greater than 3, then remove the first letter and last letter of the given string and print it. Otherwise print the string as it is. [You can assume that all the input will be in lowercase letter]\n",
        "\n",
        "=====================================================================\n",
        "\n",
        "\n",
        "**Sample Input 1**:\n",
        "\n",
        "tanjiro kamado\n",
        "\n",
        "a\n",
        "\n",
        "**Sample output 1**:\n",
        "\n",
        "tnjiro kmdo\n",
        "\n",
        "**Explanation**: All 3 instances of the character 'a' is removed from the input String 'tanjiro kamado' to give us output 'tnjiro kmdo'.\n",
        "\n",
        "=====================================================================\n",
        "\n",
        "**Sample Input 2**:\n",
        "\n",
        "eren yeager\n",
        "\n",
        "k\n",
        "\n",
        "\n",
        "**Sample Output 2**:\n",
        "\n",
        "ren yeage\n",
        "\n",
        "**Explanation**: The character 'k' is absent in the first input String 'eren yeager' and it's length is 11 which is greater than 3 therefore the first character 'e' and the last character 'r' is removed. Hence, the final String is 'ren yeage'.\n",
        "\n",
        "=====================================================================\n",
        "\n",
        "Sample Input 3:\n",
        "\n",
        "hi\n",
        "\n",
        "a\n",
        "\n",
        "Sample Output 3:\n",
        "\n",
        "hi\n",
        "\n",
        "**Explanation**: The letter 'a' is not found in our first input 'hi', the length of which is 2. Since the character is not present and the length is less than 3, we print the String 'hi' as it is.\n",
        "\n",
        "=====================================================================\n"
      ]
    },
    {
      "cell_type": "code",
      "metadata": {
        "id": "vToa7yazU1zI",
        "colab": {
          "base_uri": "https://localhost:8080/"
        },
        "outputId": "4dd7aef7-00b2-4bb2-d0ea-01c4f997713e"
      },
      "source": [
        "# take input from user\n",
        "\n",
        "word_1 = input( 'Please enter a string : ')\n",
        "chrctr_1 = input( 'Please enter a letter : ')\n",
        "\n",
        "# set conditions\n",
        "\n",
        "if chrctr_1 in word_1 :\n",
        "    for i in word_1 :\n",
        "        if i != chrctr_1 :\n",
        "            print( i , end='' )\n",
        "else :\n",
        "    if len(word_1) > 3 :\n",
        "        print(word_1[1:-1])\n",
        "    else :\n",
        "        print(word_1)\n",
        "\n",
        "# end"
      ],
      "execution_count": null,
      "outputs": [
        {
          "output_type": "stream",
          "name": "stdout",
          "text": [
            "Please enter a string : tanjiro kamado\n",
            "Please enter a letter : a\n",
            "tnjiro kmdo"
          ]
        }
      ]
    },
    {
      "cell_type": "markdown",
      "metadata": {
        "id": "WZXnxHTdGrMC"
      },
      "source": [
        "## Optional Tasks (13 - 15) [Ungraded]"
      ]
    },
    {
      "cell_type": "markdown",
      "metadata": {
        "id": "nwRZ3_0tC3fq"
      },
      "source": [
        "### Task 13\n",
        "\n",
        "\n",
        "Write a python program that takes a string as an input from the user and then modifies the string in such a way that the string always starts with an uppercase letter and the case of each subsequent letter is the opposite of the previous letter (uppercase character followed by a lowercase character followed by an uppercase character and so on).  Finally the modified string is printed to show the user.\n",
        "\n",
        "*Hint:  Flags/counters can be used to manage uppercase-lowercase.*\n",
        "\n",
        "=====================================================================\n",
        "\n",
        "**Sample Input 1:**\\\n",
        "Python programming is very easy\n",
        "\n",
        "**Sample Output 1:**\\\n",
        "PyThOn PrOgRaMmInG iS vErY eAsY\n",
        "\n",
        "=====================================================================\n",
        "\n",
        "**Sample Input 2:**\\\n",
        "I&nbsp;&nbsp;&nbsp;&nbsp;&nbsp;&nbsp;     love       &nbsp;&nbsp;&nbsp;&nbsp;&nbsp;&nbsp;&nbsp; Python &nbsp;&nbsp;&nbsp;&nbsp;&nbsp;&nbsp;&nbsp;&nbsp;Programming\n",
        "\n",
        "**Sample Output 2:**\\\n",
        "I&nbsp;&nbsp;&nbsp;&nbsp;&nbsp;&nbsp;     lOvE       &nbsp;&nbsp;&nbsp;&nbsp;&nbsp;&nbsp;&nbsp;pYtHoN&nbsp;&nbsp;&nbsp;&nbsp;&nbsp;&nbsp;&nbsp;&nbsp;pRoGrAmMiNg\n",
        "\n",
        "=====================================================================\n",
        "\n",
        "**Sample Input 3:**\\\n",
        "CSE110 Course\n",
        "\n",
        "**Sample Output 3**\\\n",
        "CsE110 cOuRsE\n",
        "\n",
        "\n",
        "\n",
        "=====================================================================\n",
        "\n",
        "**Sample Input 4:**\\\n",
        "c\n",
        "\n",
        "**Sample Output 4:**\\\n",
        "C\n",
        "\n",
        "=====================================================================\n"
      ]
    },
    {
      "cell_type": "code",
      "metadata": {
        "id": "LEnaTlyoMJdS",
        "colab": {
          "base_uri": "https://localhost:8080/"
        },
        "outputId": "a6c03ff4-70f1-427e-ed33-63493658b937"
      },
      "source": [
        "# take input from user\n",
        "\n",
        "word_1 = input( 'Please enter a string : ')\n",
        "\n",
        "counter = 0\n",
        "\n",
        "for i in word_1 :\n",
        "    if i == ' ' :\n",
        "        print(i, end='' )\n",
        "    else :\n",
        "        if counter % 2 == 0 :\n",
        "            print(i.upper(),end='')\n",
        "        else :\n",
        "            print(i.lower(),end='')\n",
        "        counter += 1\n",
        "\n",
        "# end"
      ],
      "execution_count": null,
      "outputs": [
        {
          "output_type": "stream",
          "name": "stdout",
          "text": [
            "Please enter a string : Python programming is very easy\n",
            "PyThOn PrOgRaMmInG iS vErY eAsY"
          ]
        }
      ]
    },
    {
      "cell_type": "markdown",
      "metadata": {
        "id": "EEkcqbIJBKel"
      },
      "source": [
        "### Task 14 \n",
        "An anagram is a play on words created by rearranging the letters of the original word to make a new word or phrase.\n",
        "So we can say two words are anagrams if they contain all of the same letters, but in a different order.\n",
        "\n",
        "\n",
        "Write a python program that takes two strings from the user and tells if they are anagram or not.\n",
        "\n",
        "=====================================================================\n",
        "\n",
        "<b>Sample Input 1: </b><br/>\n",
        "dusty<br/>\n",
        "study<br/>\n",
        "<b>Sample Output 1: </b> <br/>\n",
        "They are anagram<br/>\n",
        "\n",
        "=====================================================================\n",
        "\n",
        "<b>Sample Input 2: </b><br/>\n",
        "dustyyy<br/>\n",
        "study<br/>\n",
        "<b>Sample Output 2: </b><br/>\n",
        "They are not anagram"
      ]
    },
    {
      "cell_type": "code",
      "metadata": {
        "id": "dvjY9pE2BLVT",
        "colab": {
          "base_uri": "https://localhost:8080/"
        },
        "outputId": "1a03b0c0-e0b7-4cc5-c032-da4239b3eaa6"
      },
      "source": [
        "# take input from user\n",
        "\n",
        "word_1 = input( 'Please enter a string : ')\n",
        "word_2 = input( 'Please enter another string : ')\n",
        "\n",
        "# set condition\n",
        "\n",
        "x = True\n",
        "\n",
        "if len(word_1) == len(word_2) :\n",
        "    for i in word_1 :\n",
        "        if word_1.count(i) != word_2.count(i) :\n",
        "            x = False\n",
        "            break\n",
        "else : x = False   \n",
        "if x == True :\n",
        "    print( 'They are anagram' )\n",
        "else :\n",
        "    print( 'They are not anagram' )\n",
        "\n",
        "# end"
      ],
      "execution_count": null,
      "outputs": [
        {
          "output_type": "stream",
          "name": "stdout",
          "text": [
            "Please enter a string : dustyyy\n",
            "Please enter another string : study\n",
            "They are not anagram\n"
          ]
        }
      ]
    },
    {
      "cell_type": "markdown",
      "metadata": {
        "id": "sHeGC4Tf7z81"
      },
      "source": [
        "###Task 15\n",
        "\n",
        "Write a python program thats prints the largest consecutive sequence from a given string S. For example, if S = ‘AABBBCCAAAA’, print ‘AAAA’. If more than one largest consecutive sequence exists, print the first one. Print NONE if no consecutive sequence is found.\n",
        "\n",
        "=====================================================================\n",
        "\n",
        "**Sample Input 1:**<br/>\n",
        "AABBBCCAAAA<br/>\n",
        "**Sample Output 1:**<br/>\n",
        "AAAA<br/>\n",
        "\n",
        "=====================================================================\n",
        "\n",
        "**Sample Input 2:**<br/>\n",
        "AABBCC<br/>\n",
        "**Sample Output 2:**<br/>\n",
        "AA<br/>\n",
        "\n",
        "=====================================================================\n",
        "\n",
        "**Sample Input 3:**<br/>\n",
        "ABCD<br/>\n",
        "**Sample Output 3:**<br/>\n",
        "NONE<br/>\n",
        "\n",
        "====================================================================="
      ]
    },
    {
      "cell_type": "code",
      "metadata": {
        "id": "lModRb2L0oqS",
        "colab": {
          "base_uri": "https://localhost:8080/"
        },
        "outputId": "46fb49f7-4a00-41fd-e9ee-29d7c492991a"
      },
      "source": [
        "# take input from user\n",
        "\n",
        "word_1 = input( 'Please enter a string : ')\n",
        "\n",
        "chrtcr = ''\n",
        "counter_1 = 0\n",
        "counter_2 = 0\n",
        "seq = 'None'\n",
        "\n",
        "for i in word_1 :\n",
        "    if i != chrtcr :\n",
        "        chrtcr = i\n",
        "        counter_1 = 1\n",
        "    else :\n",
        "        counter_1 += 1\n",
        "        if counter_1 > counter_2 :\n",
        "            seq = i * counter_1\n",
        "            counter_2 = counter_1\n",
        "\n",
        "print(seq)"
      ],
      "execution_count": null,
      "outputs": [
        {
          "output_type": "stream",
          "name": "stdout",
          "text": [
            "Please enter a string : AABBBCCAAAA\n",
            "AAAA\n"
          ]
        }
      ]
    }
  ]
}