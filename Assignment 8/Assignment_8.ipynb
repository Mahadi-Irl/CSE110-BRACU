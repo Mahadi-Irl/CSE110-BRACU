{
  "nbformat": 4,
  "nbformat_minor": 0,
  "metadata": {
    "colab": {
      "name": "A8_21201301_Mahadi Ibne Bakar_12_CSE110Assignment8.ipynb",
      "provenance": [],
      "collapsed_sections": []
    },
    "kernelspec": {
      "name": "python3",
      "display_name": "Python 3"
    }
  },
  "cells": [
    {
      "cell_type": "markdown",
      "metadata": {
        "id": "ZXvFDb3VLf5p"
      },
      "source": [
        "# CSE110 Lab Assignment 8 on File I/O & Exception\n",
        "\n",
        "\n",
        "\n"
      ]
    },
    {
      "cell_type": "markdown",
      "metadata": {
        "id": "4fjLeMMMEEKB"
      },
      "source": [
        "**<font color='red'>[MUST MAINTAIN VARIABLE NAMING CONVENTIONS FOR ALL THE TASKS]</font>**\n",
        "\n",
        "## Part 1: File\n",
        "\n",
        "### Task 1\n",
        "\n",
        "Write a python program that reads the first n lines of a text file.\n",
        "\n",
        "Suppose you have a file with all these strings in a file.\n",
        "\n",
        "=========================================================\n",
        "\n",
        "I love Python Programming.\\\n",
        "It is very easy to understand the code.\\\n",
        "It can code very hard problems easily in python code.\\\n",
        "Python programming is the best programming language.\n",
        "\n",
        "=========================================================\n",
        "\n",
        "\n",
        "**Input :**\\\n",
        "2\\\n",
        "**Output :**\\\n",
        "I love Python Programming.\\\n",
        "It is very easy to understand the code.\n",
        "\n",
        "=========================================================\n",
        "\n",
        "**Hint(1):**\\\n",
        "Use counter to control line number.\n",
        "\n",
        "**Hint(2):**\\\n",
        "Use function readlines() to store in a list and then use loop\n",
        "\n",
        "OR you can use readline() in a loop.\n",
        "\n",
        "**Hint(3):**\\\n",
        "You might need to use strip() function"
      ]
    },
    {
      "cell_type": "code",
      "source": [
        "# take input from user\n",
        "\n",
        "num = int(input('Please enter the number of lines : '))\n",
        "\n",
        "# open the text file\n",
        "\n",
        "file_1 = open('document_1.txt')\n",
        "\n",
        "# store the text file lines in a list\n",
        "\n",
        "temp_list = file_1.readlines()\n",
        "\n",
        "# set loop conditions to print the desired number of lines\n",
        "\n",
        "for i in range(num):\n",
        "    print(temp_list[i].rstrip())\n",
        "  \n",
        "file_1.close()\n",
        "\n",
        "# end"
      ],
      "metadata": {
        "id": "LX0wT8tKpQf_"
      },
      "execution_count": null,
      "outputs": []
    },
    {
      "cell_type": "markdown",
      "metadata": {
        "id": "6C9IjoWsEJlJ"
      },
      "source": [
        "### Task 2\n",
        "\n",
        "Write a python program to find the longest word in a file. Then print the word.\\\n",
        "**Input: [in a file]**\\\n",
        "I love Python Programming\\\n",
        "It is very easy to understand the code\\\n",
        "It can code very hard problems easily in python code\\\n",
        "Python programming is the best programming language\n",
        "\n",
        "\n",
        "\n",
        "**Output:**\\\n",
        "Programming\n",
        "\n",
        "=========================================================\n",
        "\n",
        "**Hint(1):**\\\n",
        "You can use split function to separate the words into a list.\n",
        "\n",
        "**Hint(2):**\\\n",
        "Use function readlines()"
      ]
    },
    {
      "cell_type": "code",
      "metadata": {
        "id": "WucZ7kEOEKrA"
      },
      "source": [
        "# open the text file\n",
        "\n",
        "file_1 = open('document_2.txt')\n",
        "\n",
        "largest_word = ''\n",
        "\n",
        "# store the text file lines in a list\n",
        "\n",
        "temp_list = file_1.readlines()\n",
        "\n",
        "# set loop conditions to find the longest word\n",
        "\n",
        "for i in temp_list:\n",
        "    temp_string = i.rstrip()\n",
        "    word_list = temp_string.split(' ')\n",
        "    for j in word_list:\n",
        "        if len(j) > len(largest_word):\n",
        "            largest_word = j\n",
        "\n",
        "# print the largest word of the file\n",
        "\n",
        "print(largest_word) \n",
        "\n",
        "file_1.close()\n",
        "\n",
        "# end"
      ],
      "execution_count": null,
      "outputs": []
    },
    {
      "cell_type": "markdown",
      "metadata": {
        "id": "Y0dBzRxdEK1R"
      },
      "source": [
        "### Task 3\n",
        "Write a python program that allows you to erase multiple spaces in a text file. Then re-write the sentence without extra spaces in a another text file.\n",
        "\n",
        "=========================================================\n",
        "\n",
        "**Input:**\n",
        "\n",
        "I&nbsp;&nbsp;&nbsp;&nbsp;&nbsp;&nbsp;love  &nbsp;&nbsp;&nbsp;&nbsp;&nbsp;&nbsp;&nbsp;             Python   &nbsp;&nbsp;&nbsp;&nbsp;&nbsp;&nbsp;&nbsp;&nbsp;          Programming\n",
        "\n",
        "**Output:**\\\n",
        "I love Python Programming.\n",
        "\n",
        "=========================================================\n",
        "\n",
        "**Hints:**\\\n",
        "You can use split function to separate the words into a list.\n"
      ]
    },
    {
      "cell_type": "code",
      "metadata": {
        "id": "a0yJHr82ENWF"
      },
      "source": [
        "# open the text files\n",
        "\n",
        "file_1 = open('document_3.txt')\n",
        "new_file = open('document_4.txt', 'a')\n",
        "\n",
        "# store the text file lines in a list\n",
        "\n",
        "temp_list = file_1.readlines()\n",
        "\n",
        "# set loop conditions to erase multiple spaces in a text file\n",
        "\n",
        "for i in temp_list:\n",
        "    word_list = i.split(' ')\n",
        "    temp_string = ''\n",
        "    for i in range(len(word_list)):\n",
        "        if i != len(word_list)-1:\n",
        "            if word_list[i] != '':\n",
        "                temp_string += word_list[i] + ' '\n",
        "        else:\n",
        "            temp_string += word_list[i] + '.'\n",
        "    new_file.write(temp_string)\n",
        "\n",
        "file_1.close()\n",
        "new_file.close()\n",
        "\n",
        "# end"
      ],
      "execution_count": null,
      "outputs": []
    },
    {
      "cell_type": "markdown",
      "metadata": {
        "id": "OOFNxcqqENje"
      },
      "source": [
        "### Task 4\n",
        "Write a Python program to count the number of lines in a text file. Then, finally print the total number of lines.\n",
        "\n",
        "=========================================================\n",
        "\n",
        "**Input:**\\\n",
        "Hello\\\n",
        "What are you doing\\\n",
        "I am fine\n",
        "\n",
        "**Output:**\\\n",
        "3\n"
      ]
    },
    {
      "cell_type": "code",
      "metadata": {
        "id": "PRPocuTJEP0v"
      },
      "source": [
        "# open the text file\n",
        "\n",
        "file_1 = open('document_5.txt')\n",
        "\n",
        "# store the text file lines in a list\n",
        "\n",
        "temp_list = file_1.readlines()\n",
        "\n",
        "# count the number of lines in the text file\n",
        "\n",
        "line_number = len(temp_list)\n",
        "\n",
        "print(line_number) \n",
        "\n",
        "file_1.close()\n",
        "\n",
        "# end"
      ],
      "execution_count": null,
      "outputs": []
    },
    {
      "cell_type": "markdown",
      "metadata": {
        "id": "LiSNirheEQHf"
      },
      "source": [
        "### Task 5\n",
        "\n",
        "Write a Python program to combine each line from the first file with the corresponding line in the second file and then save it in a 3rd file.\n",
        "\n",
        "Consider, both the files have same number of lines. Assume, each line has a newline(\\n) at the end.\n",
        "\n",
        "=========================================================\n",
        "\n",
        "**Example:**\\\n",
        "**Input from file 1:**\\\n",
        "Hello\\\n",
        "Hi\\\n",
        "Nice\n",
        "\n",
        "**Input from file 2:**\\\n",
        "Bad\\\n",
        "Worse\\\n",
        "Worst\n",
        "\n",
        "**Output in 3rd FIle:**\\\n",
        "Hello Bad\\\n",
        "Hi Worse\\\n",
        "Nice Worst \n",
        "\n",
        "=========================================================\n",
        "\n",
        "**Hint(1):**\\\n",
        " Use the write() function\n",
        "\n",
        "\n",
        "\n"
      ]
    },
    {
      "cell_type": "code",
      "metadata": {
        "id": "b-b4xnHLETDY"
      },
      "source": [
        "# open the text files\n",
        "\n",
        "file_1 = open('document_6.txt')\n",
        "file_2 = open('document_7.txt')\n",
        "new_file = open('document_8.txt', 'a')\n",
        "\n",
        "# store the text file lines in a list\n",
        "\n",
        "temp_list_1 = file_1.readlines()\n",
        "temp_list_2 = file_2.readlines()\n",
        "\n",
        "# set loop conditions to combine each line from the first file with the corresponding line in the second file\n",
        "\n",
        "for i in range(len(temp_list_1)):\n",
        "    temp_string = temp_list_1[i].rstrip() + ' ' + temp_list_2[i].rstrip()\n",
        "    if i != len(temp_list_1)-1:\n",
        "        new_file.write(temp_string + '\\n')\n",
        "    else:\n",
        "        new_file.write(temp_string)\n",
        "\n",
        "file_1.close()\n",
        "file_2.close()\n",
        "new_file.close()\n",
        "\n",
        "# end"
      ],
      "execution_count": null,
      "outputs": []
    },
    {
      "cell_type": "markdown",
      "metadata": {
        "id": "6J7MA_zNCbCg"
      },
      "source": [
        "## Part 2: Exception \n"
      ]
    },
    {
      "cell_type": "markdown",
      "metadata": {
        "id": "tZow-v3MLoLE"
      },
      "source": [
        "### Task 6\n",
        "Given a list named my_list.\n",
        "\n",
        "my_list = [10, 20, 30, 40, 60, 100, 2, 5]\n",
        "\n",
        "Write a python program that takes the position as an input from the user and prints the element of that position from the list. \n",
        "\n",
        "If the user’s input position is not in the range, return an exception stating \"Index out of range\".\n",
        "\n",
        "If the user’s input position is not an Ingeter number, return an exception stating \"For position, please enter an Integer value\".\n",
        "\n",
        "Make sure your program always prints \"Program ended\" at the end, no matter what happens.\n",
        "\n",
        "=============================\n",
        "\n",
        "**Hint:** Use finally block\n",
        "\n",
        "=============================\n",
        "\n",
        "**Example 1:** \\\n",
        "**Input:**\\\n",
        "1\\\n",
        "**Output:**\\\n",
        "20\\\n",
        "Program ended\n",
        "\n",
        "=============================\n",
        "\n",
        "**Example 2:** \\\n",
        "**Input:**\\\n",
        "10\\\n",
        "**Output:**\\\n",
        "Index out of range.\\\n",
        "Program ended\n",
        "\n",
        "\n",
        "\n",
        "=============================\n",
        "\n",
        "**Example 3:** \\\n",
        "**Input:**\\\n",
        "hello\\\n",
        "**Output:**\\\n",
        "For position, please enter an Integer value.\\\n",
        "Program ended\n"
      ]
    },
    {
      "cell_type": "code",
      "metadata": {
        "id": "c9yKuS5kLdDO",
        "colab": {
          "base_uri": "https://localhost:8080/"
        },
        "outputId": "1acdaf45-2094-47f5-c9bd-6d343a34e136"
      },
      "source": [
        "# take a given list\n",
        "\n",
        "my_list = [10, 20, 30, 40, 60, 100, 2, 5]\n",
        "\n",
        "# take input from user\n",
        "\n",
        "position = input('Please input the position : ')\n",
        "\n",
        "# print the element of the position from the list\n",
        "\n",
        "try:\n",
        "    position = int(position)\n",
        "    value = my_list[position]\n",
        "    print(value)\n",
        "\n",
        "# handle exceptions\n",
        "\n",
        "except ValueError:\n",
        "    print('For position, please enter an Integer value.')\n",
        "except IndexError:\n",
        "    print('Index out of range.')\n",
        "finally:\n",
        "    print('Program ended')\n",
        "\n",
        "# end"
      ],
      "execution_count": null,
      "outputs": [
        {
          "output_type": "stream",
          "name": "stdout",
          "text": [
            "Please input the position : 0\n",
            "10\n",
            "Program ended\n"
          ]
        }
      ]
    },
    {
      "cell_type": "markdown",
      "metadata": {
        "id": "gD4MMyO_Mtw4"
      },
      "source": [
        "### Task 7\n",
        "\n",
        "Suppose you have a dictionary named my_dictionary containing the name of some groceries and their prices.\\\n",
        "my_dictionary={\"Potato\":12, \"Onion\":16, \"Ginger\":15, \"Garlic\":12, \"Tomato\":15}\n",
        "\n",
        "Now write a python program that takes the grocerie names as input from the user and shows the total price of the groceries.\n",
        "\n",
        "Some exceptions to handle:\n",
        "* Handle the exception when the given key is not present in the dictionary.\n",
        "* Handle the exception when the summation variable is not initialized properly. (the variable to store the total price has been initialized at 0 or not)\n",
        "\n",
        "=============================\n",
        "\n",
        "**Example 1:** \\\n",
        "**Input:**\\\n",
        "Potato,Onion,Ginger\\\n",
        "**Output:**\\\n",
        "43\n",
        "\n",
        "=============================\n",
        "\n",
        "**Example 2:** \\\n",
        "**Input:**\\\n",
        "Potato,Onion,Ginger,Beef\\\n",
        "**Output:**\\\n",
        "Some groceries are not available in the dictionary.\n"
      ]
    },
    {
      "cell_type": "code",
      "metadata": {
        "id": "15umlUXTNe5N",
        "colab": {
          "base_uri": "https://localhost:8080/"
        },
        "outputId": "3180c9cf-ed35-41ee-f221-d9013ed24ca6"
      },
      "source": [
        "# take a given dictionary\n",
        "\n",
        "my_dictionary={\"Potato\":12, \"Onion\":16, \"Ginger\":15, \"Garlic\":12, \"Tomato\":15}\n",
        "\n",
        "# take input from user\n",
        "\n",
        "grocerie_names = input('Please enter the grocerie names (separated by commas):')\n",
        "\n",
        "# print the total price of the groceries\n",
        "\n",
        "try:\n",
        "    grocerie_names = grocerie_names.split(\",\")\n",
        "    total_price = 0\n",
        "\n",
        "    # set loop conditions to calculate the total price of the groceries\n",
        "\n",
        "    for elem in grocerie_names:\n",
        "        total_price += my_dictionary[elem]\n",
        "    print(total_price)\n",
        "\n",
        "# handle exceptions\n",
        "\n",
        "except KeyError:\n",
        "    print('Some groceries are not available in the dictionary.')\n",
        "except NameError:\n",
        "    print('the variable to store the total price has not been initialized at 0')\n",
        "\n",
        "# end"
      ],
      "execution_count": null,
      "outputs": [
        {
          "output_type": "stream",
          "name": "stdout",
          "text": [
            "Please enter the grocerie names (separated by commas):Potato,Onion,Ginger\n",
            "43\n"
          ]
        }
      ]
    },
    {
      "cell_type": "markdown",
      "metadata": {
        "id": "l5SgF6kTN7vY"
      },
      "source": [
        "### Task 8\n",
        "Write a python program that takes two lists as input from the user, multiplies the index wise elements of the two lists and adds it to a new variable. While doing the program you should handle the following exceptions:\n",
        "* Return an exception if an element in a list is not a number stating “The list has some non number values”.\n",
        "* Return an exception if there is an index out of bound stating “Index out of bound”.\n",
        "\n",
        "=============================\n",
        "\n",
        "**Example 1:** \\\n",
        "**Input:**\\\n",
        "list_one = [1, a, 2, 4]\\\n",
        "list_two =[5, 6, 7, 8]\\\n",
        "**Output:**\\\n",
        "The list has some non number values\n",
        "\n",
        "=================\n",
        "\n",
        "**Example 2:** \\\n",
        "**Input:**\\\n",
        "list_one=[1, 2, 3, 4, 5]\\\n",
        "list_two=[1, 2, 3, 4]\\\n",
        "**Output:**\\\n",
        "Index out of bound\n",
        "\n",
        "=================\n",
        "\n",
        "**Example 3:** \\\n",
        "**Input:**\\\n",
        "list_one=[1,2,3,4]\\\n",
        "list_two=[5,6,7,8]\\\n",
        "**Output:**\\\n",
        "70\n",
        "\n",
        "\n"
      ]
    },
    {
      "cell_type": "code",
      "metadata": {
        "id": "oFpEZFRhOlvV",
        "colab": {
          "base_uri": "https://localhost:8080/"
        },
        "outputId": "05a50a39-df53-4149-c930-1da5d08639a7"
      },
      "source": [
        "# take input from the user\n",
        "\n",
        "list_1 = input('Please input a list : ')\n",
        "list_2 = input('Please input a list : ')\n",
        "\n",
        "# print summation of multiplications of the index wise elements of the two lists\n",
        "\n",
        "try:\n",
        "    list_1 = [int(i) for i in list_1[1:-1].split(',')]\n",
        "    list_2 = [int(i) for i in list_2[1:-1].split(',')]\n",
        "  \n",
        "    final_value = 0\n",
        "\n",
        "    # set loop conditions to multiplie the index wise elements of the two lists and add it all\n",
        "\n",
        "    for i in range(len(list_1)):\n",
        "        final_value += list_1[i] * list_2[i]\n",
        "    \n",
        "    print(final_value)\n",
        "\n",
        "# handle exceptions\n",
        "\n",
        "except ValueError:\n",
        "    print('The list has some non number values')\n",
        "except IndexError:\n",
        "    print('Index out of bound')\n",
        "\n",
        "# end"
      ],
      "execution_count": null,
      "outputs": [
        {
          "output_type": "stream",
          "name": "stdout",
          "text": [
            "Please input a list : [1,2,3,4]\n",
            "Please input a list : [5,6,a,8]\n",
            "The list has some non number values\n"
          ]
        }
      ]
    },
    {
      "cell_type": "markdown",
      "metadata": {
        "id": "iBqIUN-WOnvW"
      },
      "source": [
        "### Task 9\n",
        "Write a python program that will take a string input from the user. Your task is to count the number of vowels and consonants in the string.\n",
        "\n",
        "Using try, if the number of vowels is greater than or equal to the number of consonants, then raise a runtime error. Print 'Number of vowels greater/equal to consonants. Please paraphrase.'.\\\n",
        "Otherwise, print 'The sentence will work.'. \n",
        "\n",
        "**Note:** a,e,i,o,u are called vowels and all the other 21 english alphabets are consonants.\n",
        "\n",
        "=============================\n",
        "\n",
        "**Example 1:** \\\n",
        "**Input:**\\\n",
        "'his age is 10'\\\n",
        "**Output:**\\\n",
        "Number of vowels greater/equal to consonants. Please paraphrase.\n",
        "\n",
        "=================\n",
        "\n",
        "**Example 2:** \\\n",
        "**Input:**\\\n",
        "'he is 10 years old'\\\n",
        "**Output:**\\\n",
        "The sentence will work."
      ]
    },
    {
      "cell_type": "code",
      "metadata": {
        "id": "-4kg2W2EPwVo",
        "colab": {
          "base_uri": "https://localhost:8080/"
        },
        "outputId": "bdfd70b0-df6b-4342-f675-cdf10e760467"
      },
      "source": [
        "# take input from the user\n",
        "\n",
        "str_1 = input().upper()\n",
        "\n",
        "# keep all vowels in a string to use membership operator later on\n",
        "\n",
        "all_vowels = 'AEIOU'\n",
        "vowels = 0\n",
        "consonants = 0\n",
        "\n",
        "# let loop conditions to calculate the number of vowels and consonants in the sentence\n",
        "\n",
        "for i in str_1:\n",
        "    if i in all_vowels:\n",
        "        vowels += 1\n",
        "    else:\n",
        "        if i == '' or i.isdigit():\n",
        "            pass\n",
        "        else:\n",
        "            consonants += 1\n",
        "\n",
        "# print outcome according to the question\n",
        "\n",
        "try:\n",
        "    if consonants <= vowels:\n",
        "        raise RuntimeError()\n",
        "    else:\n",
        "        print('This sentence will work.')\n",
        "\n",
        "# handle exceptions\n",
        "\n",
        "except RuntimeError:\n",
        "    print('The number of vowels is greater or equal to the number of consonants.')\n",
        "\n",
        "# end"
      ],
      "execution_count": null,
      "outputs": [
        {
          "output_type": "stream",
          "name": "stdout",
          "text": [
            "his age is 10\n",
            "The number of vowels is greater or equal to the number of consonants.\n"
          ]
        }
      ]
    },
    {
      "cell_type": "markdown",
      "metadata": {
        "id": "pl4CDeUkPxeM"
      },
      "source": [
        "### Task 10\n",
        "Write a python program that finds the corresponding energy values from a list of frequency values which are taken as input from the user, using the formula, $E=h*f$, where h is a constant of value: 1050\n",
        "\n",
        "Exceptions to handle:\n",
        "* Make sure all elements in the lists are numbers\n",
        "\n",
        "=============================\n",
        "\n",
        "**Example 1:** \\\n",
        "**Input:**\\\n",
        "[2,3]\\\n",
        "**Output:**\\\n",
        "[2100, 3150]\n",
        "\n",
        "=================\n",
        "\n",
        "**Example 2:** \\\n",
        "**Input:**\\\n",
        "[2,boss]\\\n",
        "**Output:**\\\n",
        "Wrong input type"
      ]
    },
    {
      "cell_type": "code",
      "metadata": {
        "id": "vdYQH9qnQvVo",
        "colab": {
          "base_uri": "https://localhost:8080/"
        },
        "outputId": "2066fd12-5416-49bc-f75f-fe93e8965bee"
      },
      "source": [
        "# take input from the user\n",
        "\n",
        "list_1 = input('Please input a list : ')\n",
        "\n",
        "# create new empty list and store constant value in a variable\n",
        "\n",
        "list_2 = []\n",
        "constant_h= 1050\n",
        "\n",
        "# print the corresponding energy values of the frequency values from the list\n",
        "\n",
        "try:\n",
        "    list_1 = [int(i) for i in list_1[1:-1].split(',')]\n",
        "    \n",
        "    # set loop conditions to calculate energy values\n",
        "    \n",
        "    for i in list_1:\n",
        "        list_2.append(i * constant_h)\n",
        "    print(list_2)\n",
        "    \n",
        "# handle exceptions\n",
        "\n",
        "except ValueError:\n",
        "    print('Wrong input type')\n",
        "\n",
        "# end"
      ],
      "execution_count": null,
      "outputs": [
        {
          "output_type": "stream",
          "name": "stdout",
          "text": [
            "Please input a list : [2,boss]\n",
            "Wrong input type\n"
          ]
        }
      ]
    },
    {
      "cell_type": "markdown",
      "metadata": {
        "id": "GC6Y943uUNHY"
      },
      "source": [
        "### Task 11\n",
        "Imagine Salman Khan is going to the sets of a new movie. He decides to cycle everyday on his way to the sets. For that he uses a distance calculator which finds the distance based on the present day's date, which is asked as an input from the user. You should first take the day and then the month as your inputs.\n",
        "\n",
        "The inputs should be stored in variables named `day` and `month` .The distance calculator uses the following formula to calculate a number which dictates the number of kilometers he must cycle on his way to work.\n",
        "\n",
        "\n",
        "Distance = |if day<10, `5+(day*2)/month`\\\n",
        "&nbsp;&nbsp;&nbsp;&nbsp;&nbsp;&nbsp;&nbsp;&nbsp;&nbsp;&nbsp;&nbsp;&nbsp;&nbsp;&nbsp;&nbsp;&nbsp;&nbsp;&nbsp;&nbsp; |else, `3+(day/month)`\n",
        "\n",
        "\n",
        "Exceptions to handle:\\\n",
        "-Check for 0 division error exception in the formula\\\n",
        "-Type error exception when taking date as input(if the input does not contain number)\\\n",
        "-Value error exception, as day can not be greater than 31 and month can not be greater than 12\n",
        "\n",
        "\n",
        "\n",
        "\n",
        "\n",
        "=============================\n",
        "\n",
        "\n",
        "**Example 1:** \\\n",
        "**Input:**\\\n",
        "3\\\n",
        "5\\\n",
        "**Output:**\\\n",
        "6.2 kilometres\n",
        "\n",
        "=================\n",
        "\n",
        "**Example 2:** \\\n",
        "**Input:**\\\n",
        "2\\\n",
        "0\\\n",
        "**Output:**\\\n",
        "0 is not a valid month\n",
        "\n",
        "=============================\n",
        "\n",
        "**Example 3:** \\\n",
        "**Input:**\\\n",
        "35\\\n",
        "12\\\n",
        "**Output:**\\\n",
        "35 is not a valid day of any month\n",
        "\n",
        "=============================\n",
        "\n",
        "**Example 4:** \\\n",
        "**Input:**\\\n",
        "Hello\\\n",
        "12\\\n",
        "**Output:**\\\n",
        "Please do not enter any string as input\n",
        "\n",
        "=============================\n",
        "\n",
        "\n",
        "**Example 5:** \\\n",
        "**Input:**\\\n",
        "15\\\n",
        "12\\\n",
        "**Output:**\\\n",
        "4.25 kilometres\n",
        "\n",
        "\n",
        "**Example 6:** \\\n",
        "**Input:**\\\n",
        "2\\\n",
        "15\\\n",
        "**Output:**\\\n",
        "15 is not a valid month\n",
        "\n",
        "\n",
        "**Hint(1):**\\\n",
        "Can use the built-in isdigit() function OR the ASCII values to ensure numbers as inputs\n",
        "\n",
        "\n",
        "**Hint(2):**\\\n",
        "Print the outputs in the except block with the help of conditional statements\n",
        "\n",
        "\n"
      ]
    },
    {
      "cell_type": "code",
      "metadata": {
        "id": "NOpi8SPREmVw",
        "colab": {
          "base_uri": "https://localhost:8080/"
        },
        "outputId": "0543b12a-a9bd-402a-899e-92a1649ef4bd"
      },
      "source": [
        "# take input from the user\n",
        "\n",
        "day = input('Please enter the day no. : ')\n",
        "month = input('Please enter the month no. : ')\n",
        "\n",
        "# print distance for cycle ride\n",
        "\n",
        "try:\n",
        "    if day.isdigit() == False or month.isdigit() == False :\n",
        "        raise TypeError('Please do not enter any string as input')\n",
        "    \n",
        "    # convert string values to integar\n",
        "    \n",
        "    day = int(day)\n",
        "    month = int(month)\n",
        "    \n",
        "    distance = 0\n",
        "\n",
        "    # set conditions to calculate distance or raise error if needed\n",
        "\n",
        "    if day > 31:\n",
        "        raise ValueError( str(day) + ' is not a valid day of any month')\n",
        "    elif month > 12:\n",
        "        raise ValueError( str(month) + ' is not a valid month')\n",
        "    else:\n",
        "        if day < 10:\n",
        "            distance = 5 + ( day * 2 ) / month\n",
        "        else:\n",
        "            distance = 3 + ( day / month )\n",
        "        \n",
        "        print(distance, \"kilometers\")\n",
        "\n",
        "# handle exceptions\n",
        "\n",
        "except ZeroDivisionError:\n",
        "    print( '0 is not a valid month' )\n",
        "\n",
        "# end"
      ],
      "execution_count": null,
      "outputs": [
        {
          "output_type": "stream",
          "name": "stdout",
          "text": [
            "Please enter the day no. : 15\n",
            "Please enter the month no. : 12\n",
            "4.25 kilometers\n"
          ]
        }
      ]
    },
    {
      "cell_type": "markdown",
      "metadata": {
        "id": "UrxbFOWk5ASO"
      },
      "source": [
        "## Optional Tasks (12-15)"
      ]
    },
    {
      "cell_type": "markdown",
      "metadata": {
        "id": "uIYrt-t8ETUQ"
      },
      "source": [
        "\n",
        "### Task 12\n",
        "Suppose you made a game and you stored information about the game play in a file.\\\n",
        "You stored Name, Score, Lives Used and Characters Killed of each players.\n",
        "\n",
        "**Existing file:**\\\n",
        "Mary,2000,5,25\\\n",
        "John,123455,12,50\\\n",
        "Peter,1500,5,10\\\n",
        "Harry,10000,10,30\\\n",
        "John,122,5,2\\\n",
        "Mary,5,1,1\\\n",
        "Peter,2,1,1\\\n",
        "John,123,5,10\\\n",
        "John,5,6,7\n",
        "\n",
        "**Now you have to make a new file where you have to store the following information:**\\\n",
        "1.In the first line you have to show the name and score of the player who scored the highest score.\n",
        "\n",
        "2.In the second line you have to store the name and lives used of players who used the least lives.\n",
        "\n",
        "3.In the third line you have to show the name and number of games played of the player who played the most games.\n",
        "\n",
        "**Output:**\\\n",
        "Name:John, Score:123455\\\n",
        "Name:Mary, Lives used:1\\\n",
        "Name:John, Games Played:4\n",
        "\n",
        "=========================================================\n",
        "\n",
        "**Hint(1):**\\\n",
        "Use dictionary where necessary.\\\n",
        "You are allowed to use max() min(), list.index(value) and str.split(separator) function.\n",
        "\n",
        "**Hint(2):**\\\n",
        "You need to use split function to get the data. The split function takes the separator as an argument.\n",
        "\n",
        "*Structure:*\n",
        "str.split(separator)\n",
        "\n",
        "*Example:*\n",
        "line = \"John,5,6,7\"\\\n",
        "line.split(',')\n",
        "\n",
        "**Hint(3):**\\\n",
        "You can use both write() and writelines() for writing the answers\n",
        "\n"
      ]
    },
    {
      "cell_type": "code",
      "metadata": {
        "id": "0eB5wE1p-869"
      },
      "source": [
        "#to do\n"
      ],
      "execution_count": null,
      "outputs": []
    },
    {
      "cell_type": "markdown",
      "metadata": {
        "id": "SjU5ufx8Snv3"
      },
      "source": [
        "### Task 13\n",
        "Read a **file** from the user which contains the  name and salary of employees. Convert that to a dictionary where the key is the name of each employee and value is the salary of that employee. Then find the total cost for the company that it needs to pay through employees’ salary. Print the dictionary and sum if no exception occurs.\n",
        "\n",
        "Exception to handle:\n",
        "* check whether file is actually there or not.\n",
        "* check whether the salary in each line is a number or not.\n",
        "* raise error if there are extra numbers or names\n",
        "\n",
        "=============================\n",
        "\n",
        "**Example 1:** \\\n",
        "**Input:**\\\n",
        "Saadat 100\\\n",
        "Farzad 200\\\n",
        "Atef 300\\\n",
        "**Output:**\\\n",
        "dict={Saadat : 100, Farzad : 200, Atef : 300}\\\n",
        "Sum = 600\n",
        "\n",
        "=================\n",
        "\n",
        "**Example 2:** \\\n",
        "**Input:**\\\n",
        "Saadat 100\\\n",
        "Farzad 200\\\n",
        "Atef 300\\\n",
        "John\\\n",
        "**Output:**\\\n",
        "Extra Statement\n",
        "\n",
        "**Example 3:** \\\n",
        "**Input:**\\\n",
        "Saadat 100\\\n",
        "Farzad 200\\\n",
        "Atef john\\\n",
        "**Output:**\\\n",
        "Salary cannot be string\n"
      ]
    },
    {
      "cell_type": "code",
      "metadata": {
        "id": "SUxJ1iCXUAPg"
      },
      "source": [
        "#to do\n"
      ],
      "execution_count": null,
      "outputs": []
    },
    {
      "cell_type": "markdown",
      "metadata": {
        "id": "2Xzq6xJNWvbf"
      },
      "source": [
        "### Task 14\n",
        "Write a python program to make a calculator. The user must input a string consisting of a number, operator and another number separated by white spaces.\n",
        "* If the user’s input does not contain 3 elements, raise an **exception error** stating \"Input does not contain 3 elements/Wrong operator\".\n",
        "* If the user inputs any other values except numbers in first and third position of the input, raise **value error** exception stating \"Input does not contain numbers.\" \n",
        "* If the user does not input \"+\" or \"-\" or \"/\" or \"*\" or \"%\" in second position of the input, again raise an **exception error** stating \"Input does not contain 3 elements/Wrong operator\".\n",
        "\n",
        "* In case of division, also handle **divide by zero exception**.\n",
        "\n",
        "\n",
        "If all the inputs are correct, calculate the result and print the value.\n",
        "\n",
        "\n",
        "=============================\n",
        "\n",
        "\n",
        "**Example 1:** \\\n",
        "**Input:**\\\n",
        "1 + 1 + 1\\\n",
        "**Output:**\\\n",
        "Input does not contain 3 elements/Wrong operator\n",
        "\n",
        "=================\n",
        "\n",
        "**Example 2:** \\\n",
        "**Input:**\\\n",
        "A * B\\\n",
        "**Output:**\\\n",
        "Input does not contain numbers.\n",
        "\n",
        "=================\n",
        "\n",
        "**Example 3:** \\\n",
        "**Input:**\\\n",
        "1 $ 3\\\n",
        "**Output:**\\\n",
        "Input does not contain 3 elements/Wrong operator\n",
        "\n",
        "=================\n",
        "\n",
        "**Example 4:** \\\n",
        "**Input:**\\\n",
        "1 + 1\\\n",
        "**Output:**\\\n",
        "The answer is : 2\n"
      ]
    },
    {
      "cell_type": "code",
      "metadata": {
        "id": "vX2d7DiVXbhc"
      },
      "source": [
        "#to do\n"
      ],
      "execution_count": null,
      "outputs": []
    },
    {
      "cell_type": "markdown",
      "metadata": {
        "id": "RdshPzpJRcsD"
      },
      "source": [
        "### Task 15\n",
        "Write a python function that will remove a given character from a sentence based on the starting and ending index of the sentence. In the place of the removed characters, add the count of the number of characters removed so far. For this program, you need to take 4 user inputs.\n",
        "* Sentence\n",
        "* Character to be removed\n",
        "* Starting index (inclusive)\n",
        "* Ending index (inclusive)\n",
        "\n",
        "Few exceptions to catch: \n",
        "* Name Error if a variable is not found. Print ‘Name Error: Variable not defined’\n",
        "* Value Error if the starting index and ending index is not an integer. Print ‘Value Error: Wrong input, please enter an integer value.’\n",
        "* Type Error when adding count in the new sentence. Print ‘Type Error: Cannot add integer value with string.’\n",
        "* Index Error if the starting and ending index is out of range. Print ‘Index Error: Index is outside the range of sentence length.’\n",
        "* For other exceptions, catch Exception. Print ‘Some other error occurred.’\n",
        "\n",
        "If no exception occurred, print the new string using else block. At the end using finally, print ‘The program execution is complete’.\n",
        "\n",
        "=============================\n",
        "\n",
        "**Example 1:** \\\n",
        "**Input:**\\\n",
        "'my python programming book'\\\n",
        "'m'\\\n",
        "2\\\n",
        "20\\\n",
        "**Output:**\\\n",
        "my python progra12ing book\\\n",
        "The program execution is complete\n",
        "\n",
        "=================\n",
        "\n",
        "**Example 2:** \\\n",
        "**Input:**\\\n",
        "'my python programming book'\\\n",
        "'m'\\\n",
        "2.5\\\n",
        "20\\\n",
        "**Output:**\\\n",
        "Value Error: Wrong input, please enter an integer value.\\\n",
        "The program execution is complete\n",
        "\n",
        "=================\n",
        "\n",
        "**Example 3:** \\\n",
        "**Input:**\\\n",
        "'my python programming book'\\\n",
        "'m'\\\n",
        "2\\\n",
        "100\\\n",
        "**Output:**\\\n",
        "Index Error: Index is outside the range of sentence length.\\\n",
        "The program execution is complete\n",
        "\n",
        "=================\n",
        "\n",
        "**Hint(1):**\\\n",
        "For ensuring starting index and ending index value to be integer use the builtin function isinstance(value, data_type)\n"
      ]
    },
    {
      "cell_type": "code",
      "metadata": {
        "id": "bcU6dV5BSl7d"
      },
      "source": [
        "#to do\n"
      ],
      "execution_count": null,
      "outputs": []
    }
  ]
}