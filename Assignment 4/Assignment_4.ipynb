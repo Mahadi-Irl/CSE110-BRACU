{
  "nbformat": 4,
  "nbformat_minor": 0,
  "metadata": {
    "kernelspec": {
      "display_name": "Python 3",
      "language": "python",
      "name": "python3"
    },
    "language_info": {
      "codemirror_mode": {
        "name": "ipython",
        "version": 3
      },
      "file_extension": ".py",
      "mimetype": "text/x-python",
      "name": "python",
      "nbconvert_exporter": "python",
      "pygments_lexer": "ipython3",
      "version": "3.7.6"
    },
    "colab": {
      "name": "A4_21201301_Mahadi Ibne Bakar_12_CSE110Assignment4.ipynb",
      "provenance": [],
      "collapsed_sections": []
    }
  },
  "cells": [
    {
      "cell_type": "markdown",
      "metadata": {
        "id": "xDNsncrtU1yM"
      },
      "source": [
        "# CSE110 Lab Assignment 4\n",
        "\n",
        "This Assignment is to help you develop your concept of Lists in Python."
      ]
    },
    {
      "cell_type": "markdown",
      "metadata": {
        "id": "KD4EKJf6U1yQ"
      },
      "source": [
        "## Write the code in Python to do the following tasks:\n",
        "\n",
        "**<font color='red'>[MUST MAINTAIN VARIABLE NAMING CONVENTIONS FOR ALL THE TASKS]</font>**"
      ]
    },
    {
      "cell_type": "markdown",
      "metadata": {
        "id": "pbdeIVcyU1yi"
      },
      "source": [
        "### Task 1\n",
        "Write a Python program that reads 10 numbers from the user into a list. After reading each number, print all the numbers that have been entered so far in the list. \n",
        "\n",
        "**Example:**\\\n",
        "After the user enters 3, prints “Numbers in the list: [3]”\\\n",
        "After the user enters 5, prints “Numbers in the list: [3, 5]”\\\n",
        "After the user enters 34, prints “Numbers in the list: [3, 5, 34]”\\\n",
        ".... and so on"
      ]
    },
    {
      "cell_type": "code",
      "metadata": {
        "id": "A5df9pmJU1yj",
        "colab": {
          "base_uri": "https://localhost:8080/"
        },
        "outputId": "e22c6466-5041-40b6-fa91-feff17cbc638"
      },
      "source": [
        "# make a list\n",
        "\n",
        "list_1 = []\n",
        "\n",
        "# set loop condition\n",
        "\n",
        "for i in range(10) :\n",
        "    list_1.append ( int(input ( 'Please enter a number : ' ) ) )\n",
        "    print( 'Numbers in the list:',list_1 )\n",
        "\n",
        "# end"
      ],
      "execution_count": null,
      "outputs": [
        {
          "output_type": "stream",
          "name": "stdout",
          "text": [
            "Please enter a number : 1\n",
            "Numbers in the list: [1]\n",
            "Please enter a number : 4\n",
            "Numbers in the list: [1, 4]\n",
            "Please enter a number : 9\n",
            "Numbers in the list: [1, 4, 9]\n",
            "Please enter a number : 16\n",
            "Numbers in the list: [1, 4, 9, 16]\n",
            "Please enter a number : 25\n",
            "Numbers in the list: [1, 4, 9, 16, 25]\n",
            "Please enter a number : 36\n",
            "Numbers in the list: [1, 4, 9, 16, 25, 36]\n",
            "Please enter a number : 49\n",
            "Numbers in the list: [1, 4, 9, 16, 25, 36, 49]\n",
            "Please enter a number : 64\n",
            "Numbers in the list: [1, 4, 9, 16, 25, 36, 49, 64]\n",
            "Please enter a number : 81\n",
            "Numbers in the list: [1, 4, 9, 16, 25, 36, 49, 64, 81]\n",
            "Please enter a number : 100\n",
            "Numbers in the list: [1, 4, 9, 16, 25, 36, 49, 64, 81, 100]\n"
          ]
        }
      ]
    },
    {
      "cell_type": "markdown",
      "metadata": {
        "id": "ZrjtT-I_U1zD"
      },
      "source": [
        "### Task 2\n",
        "\n",
        "Write a Python program that takes a list as an input from the user.Then creates a new list excluding the first and last two elements of the given list and prints the new list. If there are not enough elements in the list to do the task, the print \"Not possible\".\n",
        "\n",
        "**Note:** You may use list slicing.\n",
        "\n",
        "===================================================================\n",
        "\n",
        "**Sample Input 1:**<br/>\n",
        "[10, 20, 24, 25, 26, 35, 70]<br/>\n",
        "**Sample Output 1:**<br/>\n",
        "[24, 25, 26]<br/>\n",
        "\n",
        "===================================================================\n",
        "\n",
        "**Sample Input 2:**<br/>\n",
        "[10, 20, 24, 25, 26]<br/>\n",
        "**Sample Output 2:**<br/>\n",
        "[24]<br/>\n",
        "\n",
        "===================================================================\n",
        "\n",
        "**Sample Input 3:**<br/>\n",
        "[10, 20, 24, 25]<br/>\n",
        "**Sample Output 3:**<br/>\n",
        "[]<br/>\n",
        "\n",
        "===================================================================\n",
        "\n",
        "**Sample Input 4:**<br/>\n",
        "[10, 20, 24]<br/>\n",
        "**Sample Output 4:**<br/>\n",
        "Not possible<br/>\n",
        "\n",
        "==================================================================="
      ]
    },
    {
      "cell_type": "code",
      "metadata": {
        "id": "3r7Ripj7U1zE",
        "colab": {
          "base_uri": "https://localhost:8080/"
        },
        "outputId": "3d7eb615-6892-4a78-f68d-e69c6acb8049"
      },
      "source": [
        "# take input from user\n",
        "\n",
        "num_1 = int(input( 'Please enter the length of the list : ' ))\n",
        "list_1 = []\n",
        "\n",
        "# set loop condition\n",
        "\n",
        "for i in range(num_1) :\n",
        "    list_1.append ( int(input ( 'Please enter a number : ' ) ) )\n",
        "\n",
        "if len( list_1 ) < 4 :\n",
        "    print( 'Not possible' )\n",
        "else :\n",
        "    print( list_1[2:-2] )\n",
        "\n",
        "# end"
      ],
      "execution_count": null,
      "outputs": [
        {
          "output_type": "stream",
          "name": "stdout",
          "text": [
            "Please enter the length of the list : 6\n",
            "Please enter a number : 5\n",
            "Please enter a number : 10\n",
            "Please enter a number : 15\n",
            "Please enter a number : 20\n",
            "Please enter a number : 25\n",
            "Please enter a number : 30\n",
            "[15, 20]\n"
          ]
        }
      ]
    },
    {
      "cell_type": "markdown",
      "metadata": {
        "id": "AWgZaBZCzmaM"
      },
      "source": [
        "### Task 3\n",
        "\n",
        "Write a python program that reads 5 numbers from the user into a list, and then prints them in the reverse order.\n",
        "\n",
        "*Hint: You may create a list to store the input numbers and then use loop to print them in reverse order*\n",
        "\n",
        "===================================================================\n",
        "\n",
        "**Sample Input:**\\\n",
        "5\\\n",
        "-5\\\n",
        "100\\\n",
        "1\\\n",
        "0\n",
        "\n",
        "**Sample Output:**\\\n",
        "Input data: [5, -5, 100, 1, 0]\\\n",
        "Printing values from the list in reverse order:\\\n",
        "0\\\n",
        "1\\\n",
        "100\\\n",
        "-5\\\n",
        "5\n",
        "\n",
        "==================================================================="
      ]
    },
    {
      "cell_type": "code",
      "metadata": {
        "id": "ICW-03YOznTp",
        "colab": {
          "base_uri": "https://localhost:8080/"
        },
        "outputId": "2ca83a91-80b6-464f-f7f5-62f33432081e"
      },
      "source": [
        "# take input from user\n",
        "\n",
        "list_1 = []\n",
        "\n",
        "for i in range(5) :\n",
        "    list_1.append ( int(input ( 'Please enter a number : ' ) ) )\n",
        "\n",
        "print( 'Input data: ',list_1 )\n",
        "\n",
        "# set loop condition for reversing the order\n",
        "\n",
        "list_2 = []\n",
        "\n",
        "print( 'Printing values from the list in reverse order:' )\n",
        "\n",
        "for i in range(5) :\n",
        "    print( list_1[ 5-i-1 ] )\n",
        "\n",
        "# end"
      ],
      "execution_count": null,
      "outputs": [
        {
          "output_type": "stream",
          "name": "stdout",
          "text": [
            "Please enter a number : 1\n",
            "Please enter a number : 2\n",
            "Please enter a number : 3\n",
            "Please enter a number : 4\n",
            "Please enter a number : 5\n",
            "Input data:  [1, 2, 3, 4, 5]\n",
            "Printing values from the list in reverse order:\n",
            "5\n",
            "4\n",
            "3\n",
            "2\n",
            "1\n"
          ]
        }
      ]
    },
    {
      "cell_type": "markdown",
      "metadata": {
        "id": "4pBLPmvre0jv"
      },
      "source": [
        "### Task 4\n",
        "\n",
        "Write a Python program that turns every item of a list into its square. [Your program should work for any lists; make changes to the lists below and check whether your program works correctly]\n",
        "\n",
        "===================================================================\n",
        "\n",
        "**Given list 1:**\\\n",
        "[1, 2, 3, 4, 5, 6, 7]\n",
        "\n",
        "**Sample Output 1:**\\\n",
        "[1, 4, 9, 16, 25, 36, 49]\n",
        "\n",
        "===================================================================\n",
        "\n",
        "**Given list 2:**\\\n",
        "[3, 5, 1, 6]\n",
        "\n",
        "**Sample Output 2:**\\\n",
        "[9, 25, 1, 36]\n",
        "\n",
        "\n",
        "===================================================================\n",
        "\n",
        "\n",
        "\n",
        "\n",
        "\n"
      ]
    },
    {
      "cell_type": "code",
      "metadata": {
        "id": "5NDg0odDfANt",
        "colab": {
          "base_uri": "https://localhost:8080/"
        },
        "outputId": "5dbb2420-fbe8-4c9c-8e15-5b689a85816d"
      },
      "source": [
        "# take input from user\n",
        "\n",
        "num_1 = int(input( 'Please enter the length of the list : ' ))\n",
        "\n",
        "# set loop condition\n",
        "\n",
        "list_1 = []\n",
        "\n",
        "for i in range(num_1) :\n",
        "    list_1.append ( int(input ( 'Please enter a number : ' ) ) )\n",
        "\n",
        "# create new list with square values\n",
        "\n",
        "list_2 = []\n",
        "\n",
        "for i in list_1 :\n",
        "    list_2.append ( i ** 2 )\n",
        "\n",
        "print( list_2 )\n",
        "\n",
        "# end"
      ],
      "execution_count": null,
      "outputs": [
        {
          "output_type": "stream",
          "name": "stdout",
          "text": [
            "Please enter the length of the list : 7\n",
            "Please enter a number : 1\n",
            "Please enter a number : 2\n",
            "Please enter a number : 3\n",
            "Please enter a number : 4\n",
            "Please enter a number : 5\n",
            "Please enter a number : 6\n",
            "Please enter a number : 7\n",
            "[1, 4, 9, 16, 25, 36, 49]\n"
          ]
        }
      ]
    },
    {
      "cell_type": "markdown",
      "metadata": {
        "id": "G9jPuLWOetqd"
      },
      "source": [
        "### Task 5\n",
        "\n",
        "\n",
        "Write a Python program that removes all Empty strings from a **given list** and print the modified list. [Your program should work for any given list; make changes to the lists below and check whether your program works correctly]\n",
        "\n",
        "=========================================================================\n",
        "\n",
        "**Given List:**\n",
        "\n",
        "[\"hey\", \"there\", \"\", \"what's\", \"\", \"up\", \"\", \"?\"]\n",
        "\n",
        "**Sample Output:**\n",
        "\n",
        "Original List:\n",
        "['hey', 'there', '', \"what's\", '', 'up', '', '?']\n",
        "\n",
        "Modified List:\n",
        "['hey', 'there', \"what's\", 'up', '?']\n",
        "\n",
        "==========================================================================\n",
        "\n",
        "\n"
      ]
    },
    {
      "cell_type": "code",
      "metadata": {
        "id": "yIlAlqlGe7IA",
        "colab": {
          "base_uri": "https://localhost:8080/"
        },
        "outputId": "8201bfa3-1199-418e-d473-2aaf113055cf"
      },
      "source": [
        "# take input from user\n",
        "\n",
        "num_1 = int(input( 'Please enter the length of the list : ' ))\n",
        "list_1 = []\n",
        "\n",
        "# set loop condition\n",
        "\n",
        "for i in range(num_1) :\n",
        "    list_1.append (input ( 'Please enter a string : ' ) )\n",
        "\n",
        "print( 'Original List:', list_1 )\n",
        "\n",
        "# remove all empty strings\n",
        "\n",
        "while '' in list_1 :\n",
        "    list_1.remove('')\n",
        "\n",
        "print( 'Modified List:', list_1 )\n",
        "\n",
        "# end"
      ],
      "execution_count": null,
      "outputs": [
        {
          "output_type": "stream",
          "name": "stdout",
          "text": [
            "Please enter the length of the list : 7\n",
            "Please enter a string : Hi\n",
            "Please enter a string : \n",
            "Please enter a string : \n",
            "Please enter a string : Hello\n",
            "Please enter a string : \n",
            "Please enter a string : Bye\n",
            "Please enter a string : \n",
            "Original List: ['Hi', '', '', 'Hello', '', 'Bye', '']\n",
            "Modified List: ['Hi', 'Hello', 'Bye']\n"
          ]
        }
      ]
    },
    {
      "cell_type": "markdown",
      "metadata": {
        "id": "wfcSytFVU1zU"
      },
      "source": [
        "### Task 6\n",
        "\n",
        "Write a Python program that reads 5 numbers into a list and prints the **largest number** and its location or index position on the list. <font color='red'>[You are not allowed to use the max(), sort(), sorted() function here]</font>\n",
        "\n",
        "**Hint:** You may assume the first input to be the largest value initially and the largest value’s location to be 0.\n",
        "\n",
        "**Note:** You may need to be careful while printing the output. Depending on your code, you might need data conversion.\n",
        "\n",
        "===================================================================\n",
        "\n",
        "**Sample Input:**\\\n",
        " 7, 13, 2, 10, 6\n",
        "\n",
        "**Sample Output:**\\\n",
        "My list: [7, 13, 2, 10, 6]\\\n",
        "Largest number in the list is 13 which was found at index 1.\n",
        "\n",
        "==================================================================="
      ]
    },
    {
      "cell_type": "code",
      "metadata": {
        "id": "kXbEh1t3U1zV",
        "colab": {
          "base_uri": "https://localhost:8080/"
        },
        "outputId": "3b610968-ce40-4734-a0b3-e78a13dc571d"
      },
      "source": [
        "# take input from user\n",
        "\n",
        "list_1 = []\n",
        "\n",
        "for i in range(5) :\n",
        "    list_1.append ( int(input ( 'Please enter a number : ' ) ) )\n",
        "\n",
        "print( 'My list:', list_1 )\n",
        "\n",
        "# set loop condition\n",
        "\n",
        "maxm = list_1[0]\n",
        "indx = 0\n",
        "\n",
        "for i in range( 5 ) :\n",
        "    if list_1[i] > maxm :\n",
        "        maxm = list_1[i]\n",
        "        indx = i\n",
        "\n",
        "print ( 'Largest number in the list is', maxm, 'which was found at index', indx )\n",
        "\n",
        "# end"
      ],
      "execution_count": null,
      "outputs": [
        {
          "output_type": "stream",
          "name": "stdout",
          "text": [
            "Please enter a number : 4\n",
            "Please enter a number : 9\n",
            "Please enter a number : 17\n",
            "Please enter a number : 11\n",
            "Please enter a number : 13\n",
            "My list: [4, 9, 17, 11, 13]\n",
            "Largest number in the list is 17 which was found at index 2\n"
          ]
        }
      ]
    },
    {
      "cell_type": "markdown",
      "metadata": {
        "id": "UjTy79X6ewce"
      },
      "source": [
        "## Task 7\n",
        "\n",
        "Suppose you have been given two lists. Write a Python program that replaces the last element of the first list with the second list. [Your program should work for any two given lists; make changes to the lists below and check whether your program works correctly]\n",
        "\n",
        "\n",
        "===================================================================\n",
        "\n",
        "**Sample given lists 1:**\\\n",
        "List_one : [1, 4, 7, 5]\\\n",
        "List_two : [6, 1, 3, 9]\n",
        "\n",
        "**Sample Output 1:**\\\n",
        "[1, 4, 7, 6, 1, 3, 9]\n",
        "\n",
        "===================================================================\n",
        "\n",
        "**Sample given lists 2:**\\\n",
        "List_one : [1, 3, 5, 7, 9, 10]\\\n",
        "List_two : [2, 4, 6, 8]\n",
        "\n",
        "**Sample Output 2:**\\\n",
        "[1, 3, 5, 7, 9, 2, 4, 6, 8]\n",
        "\n",
        "===================================================================\n",
        "\n",
        "\n",
        "\n"
      ]
    },
    {
      "cell_type": "code",
      "metadata": {
        "id": "OlrhifBge-TA",
        "colab": {
          "base_uri": "https://localhost:8080/"
        },
        "outputId": "2b7a2b94-06ba-4b08-8c7b-ed185f0ccd33"
      },
      "source": [
        "# take input from user\n",
        "\n",
        "num_1 = int(input( 'Please enter the length of the first list : ' ))\n",
        "list_1 = []\n",
        "\n",
        "for i in range(num_1) :\n",
        "    list_1.append ( int ( input ( 'Please enter a number : ' ) ) )\n",
        "\n",
        "num_2 = int(input( 'Please enter the length of the second list : ' ))\n",
        "list_2 = []\n",
        "\n",
        "for i in range(num_2) :\n",
        "    list_2.append ( int ( input ( 'Please enter a number : ' ) ) )\n",
        "\n",
        "# print new list\n",
        "\n",
        "print ( list_1[:-1] + list_2 )\n",
        "\n",
        "# end"
      ],
      "execution_count": null,
      "outputs": [
        {
          "output_type": "stream",
          "name": "stdout",
          "text": [
            "Please enter the length of the first list : 5\n",
            "Please enter a number : 1\n",
            "Please enter a number : 2\n",
            "Please enter a number : 3\n",
            "Please enter a number : 4\n",
            "Please enter a number : 5\n",
            "Please enter the length of the second list : 3\n",
            "Please enter a number : 3\n",
            "Please enter a number : 2\n",
            "Please enter a number : 1\n",
            "[1, 2, 3, 4, 3, 2, 1]\n"
          ]
        }
      ]
    },
    {
      "cell_type": "markdown",
      "metadata": {
        "id": "7a_1pYjfU1zI"
      },
      "source": [
        "### Task 8\n",
        "Assume, you have been given two lists. [Your program should work for any two given lists; change the following lists and check whether your program works correctly for the code you have written]\n",
        "\n",
        "list_one = [1, 2, 3, 4, 5, 6, 7, 8, 9]\\\n",
        "list_two = [10, 11, 12, -13, -14, -15, -16]\n",
        "\n",
        "Write a Python program that creates a new list with all the **even elements** of both of the given lists and prints the new list.\n",
        "\n",
        "**Hint:** You may create a third list to store the even elements of the given lists.\n",
        "\n",
        "===================================================================\n",
        "\n",
        "**Output for the above lists:** [2, 4, 6, 8, 10, 12, -14, -16]\n",
        "\n",
        "==================================================================="
      ]
    },
    {
      "cell_type": "code",
      "metadata": {
        "id": "vToa7yazU1zI",
        "colab": {
          "base_uri": "https://localhost:8080/"
        },
        "outputId": "cf1e8180-8089-419a-f864-883b8126641e"
      },
      "source": [
        "# take input from user\n",
        "\n",
        "num_1 = int(input( 'Please enter the length of the first list : ' ))\n",
        "list_1 = []\n",
        "\n",
        "for i in range(num_1) :\n",
        "    list_1.append ( int ( input ( 'Please enter a number : ' ) ) )\n",
        "\n",
        "num_2 = int(input( 'Please enter the length of the second list : ' ))\n",
        "list_2 = []\n",
        "\n",
        "for i in range(num_2) :\n",
        "    list_2.append ( int ( input ( 'Please enter a number : ' ) ) )\n",
        "\n",
        "# create new list with even elements\n",
        "\n",
        "list_3 = []\n",
        "\n",
        "for i in list_1 :\n",
        "    if i % 2 == 0 :\n",
        "        list_3.append(i)\n",
        "\n",
        "for i in list_2 :\n",
        "    if i % 2 == 0 :\n",
        "        list_3.append(i)\n",
        "\n",
        "print ( list_3 )\n",
        "\n",
        "# end"
      ],
      "execution_count": null,
      "outputs": [
        {
          "output_type": "stream",
          "name": "stdout",
          "text": [
            "Please enter the length of the first list : 5\n",
            "Please enter a number : 4\n",
            "Please enter a number : 9\n",
            "Please enter a number : 10\n",
            "Please enter a number : 21\n",
            "Please enter a number : 28\n",
            "Please enter the length of the second list : 6\n",
            "Please enter a number : 5\n",
            "Please enter a number : 30\n",
            "Please enter a number : 62\n",
            "Please enter a number : 13\n",
            "Please enter a number : 6\n",
            "Please enter a number : 3\n",
            "[4, 10, 28, 30, 62, 6]\n"
          ]
        }
      ]
    },
    {
      "cell_type": "markdown",
      "metadata": {
        "id": "vyFt-Ra5erR4"
      },
      "source": [
        "### Task 9\n",
        "\n",
        "Write a Python program that reads a string as an input from the user where multiple numbers are separated by spaces. Then, make a list of numbers from the input string without using the split() function and print the list. Finally, remove all the occurences of **even numbers** from the same input list and print the modified list.\n",
        "\n",
        "\n",
        "=========================================================================\n",
        "\n",
        "**Sample Input:**\n",
        "\n",
        "7 12 4 55 96 2 11 61 33 42\n",
        "\n",
        "**Sample Output:**\n",
        "\n",
        "Original list: [7, 12, 4, 55, 96, 2, 11, 61, 33, 42]\\\n",
        "Modified list: [7, 55, 11, 61, 33]\n",
        "\n",
        "=========================================================================\n",
        "\n",
        "\n",
        "\n"
      ]
    },
    {
      "cell_type": "code",
      "metadata": {
        "id": "fcPie0yUEBj6",
        "colab": {
          "base_uri": "https://localhost:8080/"
        },
        "outputId": "7940a016-1ffd-402b-cfad-1cb21875b84e"
      },
      "source": [
        "# take input from user\n",
        "\n",
        "list_1 = input( 'Please enter a string where multiple numbers are separated by spaces : ')\n",
        "\n",
        "list_1 += ' '\n",
        "num_1 = 0\n",
        "list_2 = []\n",
        "\n",
        "for i in list_1 :\n",
        "    if i == ' ' :\n",
        "        list_2.append(num_1)\n",
        "        num_1 = 0\n",
        "    else :\n",
        "        num_1 = num_1 * 10 + int(i)\n",
        "\n",
        "print( 'Original list:', list_2 )\n",
        "\n",
        "# create new list without even numbers\n",
        "\n",
        "list_3 = []\n",
        "\n",
        "for i in list_2 :\n",
        "    if i % 2 != 0 :\n",
        "        list_3.append(i)\n",
        "\n",
        "print ( 'Modified list:', list_3 )\n",
        "\n",
        "# end"
      ],
      "execution_count": null,
      "outputs": [
        {
          "output_type": "stream",
          "name": "stdout",
          "text": [
            "Please enter a string where multiple numbers are separated by spaces : 7 12 4 55 96 2 11 61 33 42\n",
            "Original list: [7, 12, 4, 55, 96, 2, 11, 61, 33, 42]\n",
            "Modified list: [7, 55, 11, 61, 33]\n"
          ]
        }
      ]
    },
    {
      "cell_type": "markdown",
      "metadata": {
        "id": "QaD4hLn92EKT"
      },
      "source": [
        "### Task 10\n",
        "Write a Python program that reads a string as an input from the user where multiple numbers are separated by commas. Then, make a list of numbers from the input string and print the list. Finally, remove multiple occurences of any numbers from the input list and print the modified list **without duplicate values**.\n",
        "\n",
        "*Hint: You may create a third list to store the results but try doing it in the same input list. You can use membership operators (in, not in) to make sure no duplicates are added.*\n",
        "\n",
        "===================================================================\n",
        "\n",
        "**Sample Input 1:**<br/>\n",
        "0, 0, 1, 2, 3, 4, 4, 5, 6, 6, 6, 7, 8, 9, 4, 4<br/>\n",
        "\n",
        "\n",
        "**Sample Output 1:**<br/>\n",
        "Input list: [0, 0, 1, 2, 3, 4, 4, 5, 6, 6, 6, 7, 8, 9, 4, 4]\\\n",
        "Modified list: [0, 1, 2, 3, 4, 5, 6, 7, 8, 9]\n",
        "\n",
        "===================================================================\n",
        "\n",
        "**Sample Input 2:**<br/>\n",
        "7, 7, 7, 1, 0, 3, 3, 55, 9<br/>\n",
        "\n",
        "\n",
        "**Sample Output 2:**<br/>\n",
        "Input list: [7, 7, 7, 1, 0, 3, 3, 55, 9]\\\n",
        "Modified list: [7, 1, 0, 3, 55, 9]\n",
        "\n",
        "==================================================================="
      ]
    },
    {
      "cell_type": "code",
      "metadata": {
        "id": "EUbQbz5hU1zP",
        "colab": {
          "base_uri": "https://localhost:8080/"
        },
        "outputId": "b0a3c383-a91c-447a-86ee-97207af4863a"
      },
      "source": [
        "# take input from user\n",
        "\n",
        "list_1 = input( 'Please enter a string where multiple numbers are separated by commas : ' )\n",
        "list_1 = [int(i) for i in list_1.split(', ')]\n",
        "\n",
        "print( 'Input list:', list_1 )\n",
        "\n",
        "# create new list with duplicates\n",
        "\n",
        "list_2 = []\n",
        "\n",
        "for i in list_1 :\n",
        "    if i not in list_2 :\n",
        "        list_2.append( i )\n",
        "\n",
        "print( 'Modified list:', list_2 )\n",
        "\n",
        "# end"
      ],
      "execution_count": null,
      "outputs": [
        {
          "output_type": "stream",
          "name": "stdout",
          "text": [
            "Please enter a string where multiple numbers are separated by commas : 0, 0, 1, 2, 3, 4, 4, 5, 6, 6, 6, 7, 8, 9, 4, 4\n",
            "Input list: [0, 0, 1, 2, 3, 4, 4, 5, 6, 6, 6, 7, 8, 9, 4, 4]\n",
            "Modified list: [0, 1, 2, 3, 4, 5, 6, 7, 8, 9]\n"
          ]
        }
      ]
    },
    {
      "cell_type": "markdown",
      "metadata": {
        "id": "bvF30RQlemBW"
      },
      "source": [
        "### Task 11\n",
        "Assume, you have been given two lists: List_one and List_two. [Your program should work for any two given lists; change the following lists and check whether your program works correctly for the code you have written]\n",
        "\n",
        "Write a Python program that prints \"True\", if the given two lists have at least one common member. Otherwise, prints \"False\". \n",
        "\n",
        "Note: Please use concepts of flag and break to solve this task.\n",
        "\n",
        "===================================================================\n",
        "\n",
        "**Given lists 1:**\\\n",
        "List_one : [1, 4, 3, 2, 6]\\\n",
        "List_two : [5, 6, 9, 8, 7]\n",
        "\n",
        "**Sample Output 1:**\\\n",
        "True\n",
        "\n",
        "===================================================================\n",
        "\n",
        "**Given lists 2:**\\\n",
        "List_one : [1, 4, 3, 2, 5]\\\n",
        "List_two : [8, 7, 6, 9]\n",
        "\n",
        "**Sample Output 2:**\\\n",
        "False\n",
        "\n",
        "===================================================================\n"
      ]
    },
    {
      "cell_type": "code",
      "metadata": {
        "id": "LEnaTlyoMJdS",
        "colab": {
          "base_uri": "https://localhost:8080/"
        },
        "outputId": "6a66e20b-d5cd-4631-ab4f-dbb1f1d1911f"
      },
      "source": [
        "# take input from user\n",
        "\n",
        "list_1 = input( 'Please enter some numbers that are separated by commas : ' )\n",
        "list_1 = [int(i) for i in list_1.split(', ') ]\n",
        "\n",
        "list_2 = input( 'Please enter some numbers that are separated by commas : ' )\n",
        "list_2 = [int(i) for i in list_2.split(', ') ]\n",
        "\n",
        "common = False\n",
        "\n",
        "# set loop condition\n",
        "\n",
        "for i in list_1 :\n",
        "    if i in list_2 :\n",
        "        common = True\n",
        "        break\n",
        "\n",
        "print(common)\n",
        "\n",
        "# end"
      ],
      "execution_count": null,
      "outputs": [
        {
          "output_type": "stream",
          "name": "stdout",
          "text": [
            "Please enter some numbers that are separated by commas : 1, 4, 3, 2, 6\n",
            "Please enter some numbers that are separated by commas : 5, 6, 9, 8, 7\n",
            "True\n"
          ]
        }
      ]
    },
    {
      "cell_type": "markdown",
      "metadata": {
        "id": "WZXnxHTdGrMC"
      },
      "source": [
        "## Optional Tasks (12-17) [Ungraded]"
      ]
    },
    {
      "cell_type": "markdown",
      "metadata": {
        "id": "nwRZ3_0tC3fq"
      },
      "source": [
        "### Task 12\n",
        "\n",
        "\n",
        "Write a Python program that reads 5 numbers into a list and prints the **second largest number** and its location or index position on the list. <font color='red'>[You are not allowed to use the max(), sort(), sorted() function here]</font>\n",
        "\n",
        "===================================================================\n",
        "\n",
        "**Sample Input:**\\\n",
        " 7, 13, 2, 10, 6\n",
        "\n",
        "**Sample Output:**\\\n",
        "My list: [7, 13, 2, 10, 6]\\\n",
        "Second largest number in the list is 10 which was found at index 3.\n",
        "\n",
        "===================================================================\n",
        "\n"
      ]
    },
    {
      "cell_type": "code",
      "metadata": {
        "id": "2fhPNFKGEOKi",
        "colab": {
          "base_uri": "https://localhost:8080/"
        },
        "outputId": "1946ae0e-3145-4ac7-f220-1b7b5edeaae4"
      },
      "source": [
        "# take input from user\n",
        "\n",
        "list_1 = []\n",
        "\n",
        "for i in range(5) :\n",
        "    list_1.append ( int(input ( 'Please enter a number : ' ) ) )\n",
        "\n",
        "print( 'My list:', list_1 )\n",
        "\n",
        "# set loop condition\n",
        "\n",
        "maxm = list_1[0]\n",
        "\n",
        "for i in range( 5 ) :\n",
        "    if list_1[i] > maxm :\n",
        "        maxm = list_1[i]\n",
        "\n",
        "maxm_2 = -9999999\n",
        "\n",
        "for i in range( 5 ) :\n",
        "    if list_1[i] != maxm :\n",
        "        if list_1[i] > maxm_2 :\n",
        "            maxm_2 = list_1[i]\n",
        "            indx = i\n",
        "\n",
        "print( 'Second largest number in the list is', maxm_2, 'which was found at index', indx )\n",
        "\n",
        "# end"
      ],
      "execution_count": null,
      "outputs": [
        {
          "output_type": "stream",
          "name": "stdout",
          "text": [
            "Please enter a number : 7\n",
            "Please enter a number : 13\n",
            "Please enter a number : 2\n",
            "Please enter a number : 10\n",
            "Please enter a number : 6\n",
            "My list: [7, 13, 2, 10, 6]\n",
            "Second largest number in the list is 10 which was found at index 3\n"
          ]
        }
      ]
    },
    {
      "cell_type": "markdown",
      "metadata": {
        "id": "lvSiLaobU1zY"
      },
      "source": [
        "### Task 13\n",
        "\n",
        "Write a Python program that reads 5 numbers into a list and prints the smallest and largest number and their locations in the list. <font color='red'>[You are not allowed to use the max(), min(), sort(), sorted() functions here]</font>\n",
        "\n",
        "**Hint:** You may assume the first input to be the largest value initially and the largest value’s location to be 0. Similarly, you can assume the first input to be the smallest value initially and the smallest value’s location to be 0. \n",
        "\n",
        "**Note:** You may need to be careful while printing the output. Depending on your code, you might need data conversion.\n",
        "\n",
        "===================================================================\n",
        "\n",
        "**Sample Input:**\\\n",
        "7, 13, -5, 10, 6\n",
        "\n",
        "**Sample Output:**\\\n",
        "My list: [7, 13, -5, 10, 6]\\\n",
        "Smallest number in the list is -5 which was found at index 2\\\n",
        "Largest number in the list is 13 which was found at index 1\n",
        "\n",
        "==================================================================="
      ]
    },
    {
      "cell_type": "code",
      "metadata": {
        "id": "yiS5TWSDU1zY",
        "colab": {
          "base_uri": "https://localhost:8080/"
        },
        "outputId": "09ebc27d-5c78-4e50-8afd-bbc4f0890e59"
      },
      "source": [
        "# take input from user\n",
        "\n",
        "list_1 = []\n",
        "\n",
        "for i in range(5) :\n",
        "    list_1.append ( int(input ( 'Please enter a number : ' ) ) )\n",
        "\n",
        "print( 'My list:', list_1 )\n",
        "\n",
        "# set loop condition\n",
        "\n",
        "maxm = list_1[0]\n",
        "minm = list_1[0]\n",
        "indx_1 = 0\n",
        "indx_2 = 0\n",
        "\n",
        "for i in range( 5 ) :\n",
        "    if list_1[i] > maxm :\n",
        "        maxm = list_1[i]\n",
        "        indx_1 = i\n",
        "    if list_1[i] < minm :\n",
        "        minm = list_1[i]\n",
        "        indx_2 = i\n",
        "    \n",
        "\n",
        "print ( 'Smallest number in the list is', minm, 'which was found at index', indx_2 )\n",
        "print ( 'Largest number in the list is', maxm, 'which was found at index', indx_1 )\n",
        "\n",
        "# end"
      ],
      "execution_count": null,
      "outputs": [
        {
          "output_type": "stream",
          "name": "stdout",
          "text": [
            "Please enter a number : 7\n",
            "Please enter a number : 13\n",
            "Please enter a number : -5\n",
            "Please enter a number : 10\n",
            "Please enter a number : 6\n",
            "My list: [7, 13, -5, 10, 6]\n",
            "Smallest number in the list is -5 which was found at index 2\n",
            "Largest number in the list is 13 which was found at index 1\n"
          ]
        }
      ]
    },
    {
      "cell_type": "markdown",
      "metadata": {
        "id": "rguDZ8SBCHD8"
      },
      "source": [
        "### Task 14\n",
        "Write a Python program that takes two lists as an input from the user. Then print a new list with the **common elements** of both the input lists. \n",
        "\n",
        "*Hint: You may need to create a third list to store the results. You can use membership operators (in, not in) to make sure similar elements are added.*\n",
        "\n",
        "===================================================================\n",
        "\n",
        "**Sample Input 1:**<br/>\n",
        "A, B, C, D\n",
        "\n",
        "\n",
        "C, E, F, B\n",
        "\n",
        "\n",
        "**Sample Output 1:**<br/>\n",
        "['C', 'B']\n",
        "\n",
        "===================================================================\n",
        "\n",
        "**Sample Input 2:**<br/>\n",
        "1, 3, A, H, P\n",
        "\n",
        "\n",
        "A, G, 1, P, O\n",
        "\n",
        "\n",
        "**Sample Output 2:**<br/>\n",
        "['1', 'A', 'P']\n",
        "\n",
        "===================================================================\n"
      ]
    },
    {
      "cell_type": "code",
      "metadata": {
        "id": "3iueGiPPGG66",
        "colab": {
          "base_uri": "https://localhost:8080/"
        },
        "outputId": "196ad7a5-9706-45bf-acb9-540f7e20eb11"
      },
      "source": [
        "# take input from user\n",
        "\n",
        "list_1 = input( 'Please enter a string where multiple elements are separated by commas : ' )\n",
        "list_1 = list_1.split(', ')\n",
        "\n",
        "list_2 = input( 'Please enter a string where multiple elements are separated by commas : ' )\n",
        "list_2 = list_2.split(', ')\n",
        "\n",
        "# create new list with common elements\n",
        "\n",
        "list_3 = []\n",
        "\n",
        "for i in list_1 :\n",
        "    if i in list_2 :\n",
        "        list_3.append(i)\n",
        "\n",
        "print( list_3 )\n",
        "\n",
        "# end"
      ],
      "execution_count": null,
      "outputs": [
        {
          "output_type": "stream",
          "name": "stdout",
          "text": [
            "Please enter a string where multiple elements are separated by commas : 1, 3, A, H, P\n",
            "Please enter a string where multiple elements are separated by commas : A, G, 1, P, O\n",
            "['1', 'A', 'P']\n"
          ]
        }
      ]
    },
    {
      "cell_type": "markdown",
      "metadata": {
        "id": "tjcE5oitCM2s"
      },
      "source": [
        "### Task 15\n",
        "\n",
        "Assume, you have been given two lists. [Your program should work for any two given lists; make changes to the lists below and check whether your program works correctly]\n",
        "\n",
        "list_one = [1, 2 , 2, 4, 5, 5, 7, 99, 200, 303, 70]\\\n",
        "list_two = [1, 1, 2, 3, 3, 3, 4, 5, 200, 500, -5]\n",
        "\n",
        "Write a Python program that creates a new list with all the **unique elements** of both the given lists. \n",
        "<font color='red'> **You need to make sure that there are no duplicates in the resulting list.**</font> Finally, print the updated list.\n",
        "\n",
        "**Hint:** You may create a third list to store the results. You can use membership operators (in, not in) to make sure no duplicates are added.\n",
        "\n",
        "===================================================================\n",
        "\n",
        "**Output for the above two lists**: \n",
        "[1, 2, 4, 5, 7, 99, 200, 303, 70, 3, 500, -5]\n",
        "\n",
        "==================================================================="
      ]
    },
    {
      "cell_type": "code",
      "metadata": {
        "id": "b2TwkUqnGZU-",
        "colab": {
          "base_uri": "https://localhost:8080/"
        },
        "outputId": "e5ed3328-c7af-453b-f903-811be6b1c90b"
      },
      "source": [
        "# take input from user\n",
        "\n",
        "list_1 = input( 'Please enter a string where multiple elements are separated by commas : ' )\n",
        "list_1 = [ int(x) for x in list_1.split(', ') ]\n",
        "\n",
        "list_2 = input( 'Please enter a string where multiple elements are separated by commas : ' )\n",
        "list_2 = [ int(x) for x in list_2.split(', ') ]\n",
        "\n",
        "# create new list with unique elements\n",
        "\n",
        "list_3 = []\n",
        "\n",
        "for i in list_1 :\n",
        "    if i not in list_3 :\n",
        "        list_3.append(i)\n",
        "\n",
        "for i in list_2 :\n",
        "    if i not in list_1 and i not in list_3 :\n",
        "        list_3.append(i)\n",
        "\n",
        "print( list_3 )\n",
        "\n",
        "# end"
      ],
      "execution_count": null,
      "outputs": [
        {
          "output_type": "stream",
          "name": "stdout",
          "text": [
            "Please enter a string where multiple elements are separated by commas : 1, 2 , 2, 4, 5, 5, 7, 99, 200, 303, 70\n",
            "Please enter a string where multiple elements are separated by commas : 1, 1, 2, 3, 3, 3, 4, 5, 200, 500, -5\n",
            "[1, 2, 4, 5, 7, 99, 200, 303, 70, 3, 500, -5]\n"
          ]
        }
      ]
    },
    {
      "cell_type": "markdown",
      "metadata": {
        "id": "A1GQ4lem2We7"
      },
      "source": [
        "### Task 16\n",
        "\n",
        "Write a python program to take a list as a input from the user and print it back to the user. \n",
        "\n",
        "**<font color='red'>[Must use string split() and strip() functions]</font>**\n",
        "\n",
        "================================================================\n",
        "\n",
        "**Sample Input 1:**\\\n",
        "'1, &nbsp; &nbsp;&nbsp; &nbsp; 2  ,&nbsp; &nbsp;&nbsp; &nbsp;&nbsp; &nbsp;&nbsp; &nbsp;3, 50, 4'\n",
        "\n",
        "**Sample Output 1:**\\\n",
        "Original data: '1, &nbsp; &nbsp;&nbsp; &nbsp; 2  ,&nbsp; &nbsp;&nbsp; &nbsp;&nbsp; &nbsp;&nbsp; &nbsp;3, 50, 4'\\\n",
        "After removing square brackets: 1, &nbsp; &nbsp;&nbsp; &nbsp; 2  ,&nbsp; &nbsp;&nbsp; &nbsp;&nbsp; &nbsp;&nbsp; &nbsp;3, 50, 4\\\n",
        "Numbers in string format with extra white spaces: ['1', '&nbsp; &nbsp;&nbsp; &nbsp; 2'  ,'&nbsp; &nbsp;&nbsp; &nbsp;&nbsp; &nbsp;&nbsp; &nbsp;3', '50', '4']\\\n",
        "Final data (numbers in list format): [1, 2, 3, 50, 4]\n",
        "                \n",
        "                \n",
        "================================================================\n",
        "                \n",
        "  \n",
        "**Sample Input 2:**\n",
        "'[1,&nbsp; &nbsp;&nbsp; &nbsp;2&nbsp; &nbsp;,&nbsp; &nbsp;&nbsp; &nbsp;&nbsp; &nbsp;&nbsp; &nbsp;3, 50, 4]'\n",
        "\n",
        "**Sample Output 2:**\\\n",
        "Original data: [1,&nbsp; &nbsp;&nbsp; &nbsp;2&nbsp; &nbsp;,&nbsp; &nbsp;&nbsp; &nbsp;&nbsp; &nbsp;&nbsp; &nbsp;3, 50, 4]\\\n",
        "After removing square brackets: 1,&nbsp; &nbsp;&nbsp; &nbsp;2&nbsp; &nbsp;,&nbsp; &nbsp;&nbsp; &nbsp;&nbsp; &nbsp;&nbsp; &nbsp;3, 50, 4\\\n",
        "Numbers in string format with extra white spaces: ['1', '&nbsp; &nbsp;&nbsp; &nbsp;2&nbsp; &nbsp;', '&nbsp; &nbsp;&nbsp; &nbsp;&nbsp; &nbsp;&nbsp; &nbsp;3', '50', '4']\\\n",
        "Final data (numbers in list format): [1, 2, 3, 50, 4]\n",
        "                \n",
        "                \n",
        "================================================================\n",
        "\n",
        "                \n",
        "  \n",
        "**Sample Input 3:**\\\n",
        "\"&nbsp; &nbsp;&nbsp; &nbsp;[1,&nbsp; &nbsp;2&nbsp; &nbsp;,&nbsp; &nbsp;&nbsp; &nbsp;&nbsp; &nbsp;3,&nbsp; &nbsp;50,&nbsp; &nbsp;4]&nbsp; &nbsp;&nbsp; &nbsp;&nbsp; &nbsp;\"\n",
        "\n",
        "**Sample Output 3:**\\\n",
        "Original data: &nbsp; &nbsp;&nbsp; &nbsp;1,&nbsp; &nbsp;2&nbsp; &nbsp;,&nbsp; &nbsp;&nbsp; &nbsp;&nbsp; &nbsp;3,&nbsp; &nbsp;50,&nbsp; &nbsp;4&nbsp; &nbsp;&nbsp; &nbsp;&nbsp; &nbsp;\\\n",
        "After removing square brackets: 1,&nbsp; &nbsp;2&nbsp; &nbsp;,&nbsp; &nbsp;&nbsp; &nbsp;&nbsp; &nbsp;3,&nbsp; &nbsp;50,&nbsp; &nbsp;4\\\n",
        "Numbers in string format with extra white spaces: [' 1', '&nbsp; &nbsp;2&nbsp; &nbsp;', '&nbsp; &nbsp;&nbsp; &nbsp;&nbsp; &nbsp;3', '&nbsp; &nbsp;50', '&nbsp; &nbsp;4']\\\n",
        "Final data (numbers in list format): [1, 2, 3, 50, 4]\n",
        "\n",
        "                \n",
        "================================================================"
      ]
    },
    {
      "cell_type": "code",
      "metadata": {
        "id": "sV24bMYu2WPf",
        "colab": {
          "base_uri": "https://localhost:8080/"
        },
        "outputId": "9f6ab7af-e838-4b87-d12d-2a85cbe0e9aa"
      },
      "source": [
        "# take input from user\n",
        "\n",
        "list_1 = input( 'Enter a string where few numbers are separated by commas : ' )\n",
        "\n",
        "print( 'Original data: ', list_1 )\n",
        "\n",
        "list_1 = list_1[1:-1]\n",
        "\n",
        "print( 'After removing square brackets:', list_1 )\n",
        "\n",
        "list_1 = list_1.split( ',' )\n",
        "\n",
        "print( 'Numbers in string format with extra white spaces:', list_1)\n",
        "\n",
        "# create a new list without spaces\n",
        "\n",
        "list_2 = []\n",
        "\n",
        "for i in list_1:\n",
        "    list_2.append(i.strip())\n",
        "\n",
        "list_2 = [int(x) for x in list_2]\n",
        "print( 'Final data (numbers in list format):',list_2)\n",
        "\n",
        "# end"
      ],
      "execution_count": null,
      "outputs": [
        {
          "output_type": "stream",
          "name": "stdout",
          "text": [
            "Enter a string where few numbers are separated by commas : [1,      2   ,            3, 50, 4]\n",
            "Original data:  [1,      2   ,            3, 50, 4]\n",
            "After removing square brackets: 1,      2   ,            3, 50, 4\n",
            "Numbers in string format with extra white spaces: ['1', '      2   ', '            3', ' 50', ' 4']\n",
            "Final data (numbers in list format): [1, 2, 3, 50, 4]\n"
          ]
        }
      ]
    },
    {
      "cell_type": "markdown",
      "metadata": {
        "id": "Ju21t8um2jiS"
      },
      "source": [
        "\n",
        "### Task 17\n",
        "Write a Python program that takes a single string as an input from the user where few numbers are separated by commas. Now, make a list with the numbers of the given string.Then your task is to remove multiple occurences of any number and then finally print the list **without any duplicate values**.\n",
        "\n",
        "*Hint (1): For obtaining the numbers from the string, use split(). For cleaning the data, use strip().*\n",
        "\n",
        "*Hint (2): You may create a third list to store the results. You can use membership operators (in, not in) to make sure no duplicates are added.*\n",
        "\n",
        "===================================================================\n",
        "\n",
        "**Sample Input 1:**<br/>\n",
        "0, 0, 1, 2, 3, 4,&nbsp;&nbsp; &nbsp;&nbsp; 4, 5, 6, 6, 6,&nbsp;&nbsp;&nbsp;&nbsp;&nbsp;&nbsp;7, 8, 9, 4,&nbsp;&nbsp;&nbsp;&nbsp;&nbsp;&nbsp;&nbsp;&nbsp; 4<br/>\n",
        "\n",
        "\n",
        "**Sample Output 1:**<br/>\n",
        "Given numbers in list: [0, 0, 1, 2, 3, 4, 4, 5, 6, 6, 6, 7, 8, 9, 4, 4]\\\n",
        "List without any dupliacte values: [0, 1, 2, 3, 4, 5, 6, 7, 8, 9]<br/>\n",
        "\n",
        "===================================================================\n",
        "\n",
        "**Sample Input 2:**<br/>\n",
        "7, 7, 7, 1, &nbsp;&nbsp;&nbsp;&nbsp;&nbsp;&nbsp;&nbsp;&nbsp;&nbsp;&nbsp;0, 3, 3, &nbsp;&nbsp;55, 9<br/>\n",
        "\n",
        "\n",
        "**Sample Output 2:**<br/>\n",
        "Given numbers in list: [7, 7, 7, 1, 0, 3, 3, 55, 9]\\\n",
        "List without any dupliacte values: [7, 1, 0, 3, 55, 9]<br/>\n",
        "\n",
        "===================================================================\n"
      ]
    },
    {
      "cell_type": "code",
      "metadata": {
        "id": "fCEuh7r_2kgE",
        "colab": {
          "base_uri": "https://localhost:8080/"
        },
        "outputId": "99d0e23d-f0d4-428b-b6c3-d7115f76ff09"
      },
      "source": [
        "# take input from user\n",
        "\n",
        "list_1 = input( 'Enter a string where few numbers are separated by commas : ' )\n",
        "list_1 = list_1.split( ',' )\n",
        "\n",
        "# create a new list without spaces\n",
        "list_2 = []\n",
        "\n",
        "for i in list_1:\n",
        "    list_2.append(i.strip())\n",
        "\n",
        "list_2 = [int(x) for x in list_2]\n",
        "print( 'Given numbers in list:',list_2)\n",
        "\n",
        "# create a new list without duplicates\n",
        "\n",
        "list_3 = []\n",
        "\n",
        "for i in list_2 :\n",
        "    if i not in list_3 :\n",
        "        list_3.append(i)\n",
        "\n",
        "print( 'List without any dupliacte values:',list_3)\n",
        "\n",
        "# end"
      ],
      "execution_count": null,
      "outputs": [
        {
          "output_type": "stream",
          "name": "stdout",
          "text": [
            "Enter a string where few numbers are separated by commas : 0, 0, 1, 2, 3, 4,      4, 5, 6, 6, 6,      7, 8, 9, 4,         4\n",
            "Given numbers in list: [0, 0, 1, 2, 3, 4, 4, 5, 6, 6, 6, 7, 8, 9, 4, 4]\n",
            "List without any dupliacte values: [0, 1, 2, 3, 4, 5, 6, 7, 8, 9]\n"
          ]
        }
      ]
    }
  ]
}