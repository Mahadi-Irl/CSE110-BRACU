{
  "nbformat": 4,
  "nbformat_minor": 0,
  "metadata": {
    "kernelspec": {
      "display_name": "Python 3",
      "language": "python",
      "name": "python3"
    },
    "language_info": {
      "codemirror_mode": {
        "name": "ipython",
        "version": 3
      },
      "file_extension": ".py",
      "mimetype": "text/x-python",
      "name": "python",
      "nbconvert_exporter": "python",
      "pygments_lexer": "ipython3",
      "version": "3.8.4"
    },
    "colab": {
      "name": "A7_21201301_Mahadi Ibne Bakar_12_CSE110Assignment7.ipynb",
      "provenance": [],
      "collapsed_sections": []
    }
  },
  "cells": [
    {
      "cell_type": "markdown",
      "metadata": {
        "id": "oMYzsTcnHEll"
      },
      "source": [
        "# CSE110 Lab Assignment 7 on Sorting and Searching\n",
        "\n"
      ]
    },
    {
      "cell_type": "markdown",
      "metadata": {
        "id": "jT-t2zlnHEll"
      },
      "source": [
        "## Write the Python code for the following problems:\n",
        "**<font color='red'>[MUST MAINTAIN VARIABLE NAMING CONVENTIONS FOR ALL THE TASKS]</font>**\n",
        "\n",
        "### Task 1\n",
        "\n",
        "Suppose you have a list named my_list as given below. <br/>\n",
        "my_list = [10,1,20,3,6,2,5,11,15,2,12,14,17,18,29] <br/>\n",
        "Now use bubble sort to sort my_list into ascending order.\n",
        "\n",
        "**Output**<br/>\n",
        "[1, 2, 2, 3, 5, 6, 10, 11, 12, 14, 15, 17, 18, 20, 29]"
      ]
    },
    {
      "cell_type": "code",
      "metadata": {
        "id": "7qXVakLgHElm",
        "colab": {
          "base_uri": "https://localhost:8080/"
        },
        "outputId": "75626ee1-e4d4-4e91-cbfa-b55f9755fd74"
      },
      "source": [
        "# define function to sort a list using bubble sort\n",
        "\n",
        "def bubble_sort(arr):\n",
        "    for i in range(len(arr)-1):\n",
        "        for j in range (len(arr)-1-i):\n",
        "            if arr[j] > arr[j+1]:\n",
        "                arr[j], arr[j+1] = arr[j+1], arr[j]\n",
        "    return arr\n",
        "\n",
        "\n",
        "# take a given list\n",
        "\n",
        "my_list = [10,1,20,3,6,2,5,11,15,2,12,14,17,18,29]\n",
        "\n",
        "# call function\n",
        "\n",
        "print(bubble_sort(my_list))\n",
        "\n",
        "# end"
      ],
      "execution_count": null,
      "outputs": [
        {
          "output_type": "stream",
          "name": "stdout",
          "text": [
            "[1, 2, 2, 3, 5, 6, 10, 11, 12, 14, 15, 17, 18, 20, 29]\n"
          ]
        }
      ]
    },
    {
      "cell_type": "markdown",
      "metadata": {
        "id": "w1QgeWd2HElp"
      },
      "source": [
        "### Task 2\n",
        "\n",
        "Suppose you have a list named my_list as given below. <br/>\n",
        "my_list = [10,1,20,3,6,2,5,11,15,2,12,14,17,18,29] <br/>\n",
        "Now use selection sort to sort my_list into ascending order.\n",
        "\n",
        "**Output**<br/>\n",
        "[1, 2, 2, 3, 5, 6, 10, 11, 12, 14, 15, 17, 18, 20, 29]\n",
        "\n"
      ]
    },
    {
      "cell_type": "code",
      "metadata": {
        "id": "am0B_8ICHElq",
        "colab": {
          "base_uri": "https://localhost:8080/"
        },
        "outputId": "a42a5f46-afa3-443f-edcd-9ab23406a6e6"
      },
      "source": [
        "# define function to sort a list using selection sort\n",
        "\n",
        "def selection_sort(arr):\n",
        "    for i in range(len(arr)):\n",
        "        minm = arr[i]\n",
        "        minm_idx = i\n",
        "        for j in range (i+1, len(arr)):\n",
        "            if arr[j] < minm :\n",
        "                minm = arr[j]\n",
        "                minm_idx = j\n",
        "        arr[i], arr[minm_idx] = arr[minm_idx], arr[i]\n",
        "    return arr\n",
        "\n",
        "\n",
        "# take a given list\n",
        "\n",
        "my_list = [10,1,20,3,6,2,5,11,15,2,12,14,17,18,29]\n",
        "\n",
        "# call function\n",
        "\n",
        "print(selection_sort(my_list))\n",
        "\n",
        "# end"
      ],
      "execution_count": null,
      "outputs": [
        {
          "output_type": "stream",
          "name": "stdout",
          "text": [
            "[1, 2, 2, 3, 5, 6, 10, 11, 12, 14, 15, 17, 18, 20, 29]\n"
          ]
        }
      ]
    },
    {
      "cell_type": "markdown",
      "metadata": {
        "id": "j4ffr2CAHElt"
      },
      "source": [
        "### Task  3\n",
        "\n",
        "Suppose you have a list named my_list as given below <br/>\n",
        "my_list=[10,1,20,3,6,2,5,11,15,2,12,14,17,18,29] <br/>\n",
        "Now use any of the two sorting techniques you have used above to sort the list in descending order.\n",
        "\n",
        "**Output**<br/>\n",
        "[29, 20, 18, 17, 15, 14, 12, 11, 10, 6, 5, 3, 2, 2, 1]\n"
      ]
    },
    {
      "cell_type": "code",
      "metadata": {
        "id": "n2X3YR-_HElt",
        "colab": {
          "base_uri": "https://localhost:8080/"
        },
        "outputId": "ad3f282b-d76b-49a8-ebfb-c1618a6e58e5"
      },
      "source": [
        "# define function to sort a list in descending order using selection sort\n",
        "\n",
        "def selection_des_sort(arr):\n",
        "    for i in range(len(arr)):\n",
        "        maxm = arr[i]\n",
        "        maxm_idx = i\n",
        "        for j in range (i+1, len(arr)):\n",
        "            if arr[j] > maxm :\n",
        "                maxm = arr[j]\n",
        "                maxm_idx = j\n",
        "        arr[i], arr[maxm_idx] = arr[maxm_idx], arr[i]\n",
        "    return arr\n",
        "\n",
        "\n",
        "# take a given list\n",
        "\n",
        "my_list = [10,1,20,3,6,2,5,11,15,2,12,14,17,18,29]\n",
        "\n",
        "# call function\n",
        "\n",
        "print(selection_des_sort(my_list))\n",
        "\n",
        "# end"
      ],
      "execution_count": null,
      "outputs": [
        {
          "output_type": "stream",
          "name": "stdout",
          "text": [
            "[29, 20, 18, 17, 15, 14, 12, 11, 10, 6, 5, 3, 2, 2, 1]\n"
          ]
        }
      ]
    },
    {
      "cell_type": "markdown",
      "metadata": {
        "id": "9iYiiTWWHElw"
      },
      "source": [
        "### Task 4\n",
        "\n",
        "Suppose you have a sitting arrangement of the students who will give the final exam in a list. The list contains the last two digits of their student ID as given below.<br/>\n",
        "\n",
        "sitting_list = [10,30,20,70,11,15,22,16,58,100,12,56,70,80] <br/>\n",
        "\n",
        "Now you want to organize the sitting arrangement of the students in your own way. You decide to sort all the students in the even indices of the list in ascending order and all the students in the odd indices of the list in descending order.  <br/>\n",
        "\n",
        "So, write a python program that organizes the list for you in this way.<br/>\n",
        "\n",
        "\n",
        "**Sample Output**<br/>\n",
        "[10, 100, 11, 80, 12, 70, 20, 56, 22, 30, 58, 16, 70, 15]"
      ]
    },
    {
      "cell_type": "code",
      "metadata": {
        "id": "nPdUAKDJHElw",
        "colab": {
          "base_uri": "https://localhost:8080/"
        },
        "outputId": "76bef95b-dc39-42d8-aea1-2783cddce7a7"
      },
      "source": [
        "# define function to sort a list using selection sort\n",
        "\n",
        "def selection_sort(arr):\n",
        "    for i in range(len(arr)):\n",
        "        minm = arr[i]\n",
        "        minm_idx = i\n",
        "        for j in range (i+1, len(arr)):\n",
        "            if arr[j] < minm :\n",
        "                minm = arr[j]\n",
        "                minm_idx = j\n",
        "        arr[i], arr[minm_idx] = arr[minm_idx], arr[i]\n",
        "    return arr\n",
        "\n",
        "\n",
        "# define function to sort a list in descending order using selection sort\n",
        "\n",
        "def selection_des_sort(arr):\n",
        "    for i in range(len(arr)):\n",
        "        maxm = arr[i]\n",
        "        maxm_idx = i\n",
        "        for j in range (i+1, len(arr)):\n",
        "            if arr[j] > maxm :\n",
        "                maxm = arr[j]\n",
        "                maxm_idx = j\n",
        "        arr[i], arr[maxm_idx] = arr[maxm_idx], arr[i]\n",
        "    return arr\n",
        "\n",
        "\n",
        "# take a given list\n",
        "\n",
        "sitting_list = [10,30,20,70,11,15,22,16,58,100,12,56,70,80]\n",
        "even_idx_list = []\n",
        "odd_idx_list = []\n",
        "\n",
        "# set loop conditions to make new even and odd list\n",
        "\n",
        "for i in range(len(sitting_list)):\n",
        "    if i % 2 == 0:\n",
        "        even_idx_list.append(sitting_list[i])\n",
        "    else :\n",
        "        odd_idx_list.append(sitting_list[i])\n",
        "\n",
        "# sort new even and odd list by calling functions\n",
        "\n",
        "even_idx_list = selection_sort(even_idx_list)\n",
        "odd_idx_list = selection_des_sort(odd_idx_list)\n",
        "\n",
        "# set loop conditons to make new sitting list\n",
        "\n",
        "new_sitting_list = []\n",
        "for i in range(len(even_idx_list)):\n",
        "    new_sitting_list.append(even_idx_list[i])\n",
        "    new_sitting_list.append(odd_idx_list[i])\n",
        "\n",
        "print(new_sitting_list)\n",
        "\n",
        "# end"
      ],
      "execution_count": null,
      "outputs": [
        {
          "output_type": "stream",
          "name": "stdout",
          "text": [
            "[10, 100, 11, 80, 12, 70, 20, 56, 22, 30, 58, 16, 70, 15]\n"
          ]
        }
      ]
    },
    {
      "cell_type": "markdown",
      "metadata": {
        "id": "oVR1Tsa0HElz"
      },
      "source": [
        "### Task 5\n",
        "\n",
        "Suppose a list contains marks earned in the courses CSE110, PHY111, and MAT110 of each student consecutively in a nested list form. Your task is to take a course name as input from the user and sort the list based on the marks obtained in that course in order to finally print the names of the students in descending order of marks obtained i.e. from the student who earned the highest marks to the student who earned the lowest. <br/>\n",
        "\n",
        "For example, the list may look like <br/>\n",
        "lst = [ [\"Alan\", 95, 87, 91], [\"Turing\", 92, 90, 83], [\"Elon\", 87, 92, 80], [\"Musk\", 85, 94, 90] ] <br/>\n",
        "where for each nested list, 1st index holds the name of the student, 2nd index is total marks earned in the CSE110 course, 3rd index is PHY111 marks and 4th index is MAT110 marks. \n",
        "\n",
        "=====================================================\n",
        "\n",
        "**Hint:**<br/>\n",
        "You may create a function for sorting, then call it every time when needed instead of rewriting the code.\n",
        "\n",
        "You may get the data in the individual lists from the given nested list.\n",
        "\n",
        "=====================================================\n",
        "\n",
        "**Sample Input 1**<br/>\n",
        "MAT110\n",
        "\n",
        "**Sample Output 1**<br/>\n",
        "Alan <br/>\n",
        "Musk <br/>\n",
        "Turing <br/>\n",
        "Elon\n",
        "\n",
        "**Explanation:**<br/>\n",
        "Here the user gives us \"MAT110\" as the course name. Now, the students Alan, Turing, Elon and Musk earned 91, 83, 80 and 90 marks respectively in this course. If we sort it, Alan got the highest marks of 91 followed by Musk with 90 marks and Turing with 83 marks. Among these 4 students, Elon obtained the lowest marks in the MAT110 course with 80 marks. All of these has been illustrated in our sample output.\n",
        "\n",
        "=====================================================\n",
        "\n",
        "**Sample Input 2**<br/>\n",
        "PHY111\n",
        "\n",
        "**Sample Output 2**<br/>\n",
        "Musk <br/>\n",
        "Elon <br/>\n",
        "Turing <br/>\n",
        "Alan"
      ]
    },
    {
      "cell_type": "code",
      "metadata": {
        "id": "539b2P1NHElz",
        "colab": {
          "base_uri": "https://localhost:8080/"
        },
        "outputId": "7ea28e62-e2c2-4121-aa2d-200f01a77997"
      },
      "source": [
        "# define function to sort a list in descending order using selection sort\n",
        "\n",
        "def selection_des_sort(arr):\n",
        "    for i in range(len(arr)):\n",
        "        maxm = arr[i]\n",
        "        maxm_idx = i\n",
        "        for j in range (i+1, len(arr)):\n",
        "            if arr[j] > maxm :\n",
        "                maxm = arr[j]\n",
        "                maxm_idx = j\n",
        "        arr[i], arr[maxm_idx] = arr[maxm_idx], arr[i]\n",
        "    return arr\n",
        "\n",
        "\n",
        "# take a given list\n",
        "\n",
        "lst = [ [\"Alan\", 95, 87, 91], [\"Turing\", 92, 90, 83], [\"Elon\", 87, 92, 80], [\"Musk\", 85, 94, 90] ]\n",
        "\n",
        "# take input from the user\n",
        "\n",
        "subject = input('Please enter the course name : ')\n",
        "\n",
        "if subject == 'CSE110':\n",
        "    count = 1\n",
        "elif subject == 'PHY111':\n",
        "    count = 2\n",
        "elif subject == 'MAT110':\n",
        "    count = 3\n",
        "\n",
        "# store name and marks in a new dictionary \n",
        "\n",
        "dict_1 = {}\n",
        "\n",
        "for i in range(len(lst)):\n",
        "    dict_1[lst[i][count]] = lst[i][0]\n",
        "\n",
        "# sotre marks in a new list\n",
        "\n",
        "list_1 = []\n",
        "\n",
        "for i in dict_1:\n",
        "    list_1.append(i)\n",
        "\n",
        "# sort marks list by calling function\n",
        "\n",
        "list_1 = selection_des_sort(list_1)\n",
        "\n",
        "# print name in descending order of marks\n",
        "\n",
        "for i in list_1:\n",
        "    print(dict_1[i])\n",
        "\n",
        "# end"
      ],
      "execution_count": null,
      "outputs": [
        {
          "output_type": "stream",
          "name": "stdout",
          "text": [
            "Please enter the course name : PHY111\n",
            "Musk\n",
            "Elon\n",
            "Turing\n",
            "Alan\n"
          ]
        }
      ]
    },
    {
      "cell_type": "markdown",
      "metadata": {
        "id": "B0Rqbyi4HEl2"
      },
      "source": [
        "### Task 6\n",
        "\n",
        "Suppose you have a list named my_list as given below. Your task is to sort the list in ascending order and print the count of numbers that have changed their positions in the process of sorting. <br/>\n",
        "\n",
        "my_list = [4, 2, 3, 1, 6, 5] <br/>\n",
        "\n",
        "Sorted list would be [1, 2, 3, 4, 5, 6] where 4 numbers (4, 1, 6 and 5) have changed their positions. Therefore our sample output here would be 4. Please check if your code is working correctly by changing the above list and using the knowledge given here to verify whether your code gives correct output for all different lists.\n",
        "\n",
        "\n",
        "**Sample Output for the above list**<br/>\n",
        "4"
      ]
    },
    {
      "cell_type": "code",
      "metadata": {
        "id": "AMc8jAa7HEl2",
        "colab": {
          "base_uri": "https://localhost:8080/"
        },
        "outputId": "3ed76022-dd90-4d3f-ae50-9466fd799298"
      },
      "source": [
        "# define function to sort a list using selection sort\n",
        "\n",
        "def selection_sort(arr):\n",
        "    for i in range(len(arr)):\n",
        "        minm = arr[i]\n",
        "        minm_idx = i\n",
        "        for j in range (i+1, len(arr)):\n",
        "            if arr[j] < minm :\n",
        "                minm = arr[j]\n",
        "                minm_idx = j\n",
        "        arr[i], arr[minm_idx] = arr[minm_idx], arr[i]\n",
        "    return arr\n",
        "\n",
        "\n",
        "# take a given list\n",
        "\n",
        "my_list = [4, 2, 3, 1, 6, 5]\n",
        "new_list = my_list.copy()\n",
        "\n",
        "# sort the list by calling function\n",
        "\n",
        "my_sorted_list = selection_sort(new_list)\n",
        "\n",
        "# compare with old list to find out number of changed positions\n",
        "\n",
        "count = 0\n",
        "for i in range(len(my_list)):\n",
        "    if my_list[i] != my_sorted_list[i]:\n",
        "        count += 1\n",
        "\n",
        "print(count)\n",
        "\n",
        "# end"
      ],
      "execution_count": null,
      "outputs": [
        {
          "output_type": "stream",
          "name": "stdout",
          "text": [
            "4\n"
          ]
        }
      ]
    },
    {
      "cell_type": "markdown",
      "metadata": {
        "id": "iIH5n0sJHEl5"
      },
      "source": [
        "### Task 7\n",
        "\n",
        "Write a python program that takes two lists from the user, merges the two lists, sorts the resulting list, and then finds the median of the elements in the two lists.\n",
        "\n",
        "=====================================================\n",
        "\n",
        "\n",
        "**Sample Input 1**<br/>\n",
        "list_one = [1, 2, 1, 4] <br/>\n",
        "list_two = [5, 4, 1]\n",
        "\n",
        "\n",
        "**Sample Output 1**<br/>\n",
        "Sorted list = [1, 1, 1, 2, 4, 4, 5] <br/>\n",
        "Median = 2\n",
        "\n",
        "=====================================================\n",
        "\n",
        "\n",
        "**Sample Input 2**<br/>\n",
        "list_one = [1, 7, 9, 10] <br/>\n",
        "list_two = [2, 7, 6, 5]\n",
        "\n",
        "\n",
        "**Sample Output 2**<br/>\n",
        "Sorted list = [1, 2, 5, 6, 7, 7, 9, 10] <br/>\n",
        "Median = 6.5\n",
        "\n"
      ]
    },
    {
      "cell_type": "code",
      "metadata": {
        "id": "KsFxC7XbHEl6",
        "colab": {
          "base_uri": "https://localhost:8080/"
        },
        "outputId": "cd844f5b-d7b0-4de4-dd8c-e7f9203e3166"
      },
      "source": [
        "# define function to sort a list using selection sort\n",
        "\n",
        "def selection_sort(arr):\n",
        "    for i in range(len(arr)):\n",
        "        minm = arr[i]\n",
        "        minm_idx = i\n",
        "        for j in range (i+1, len(arr)):\n",
        "            if arr[j] < minm :\n",
        "                minm = arr[j]\n",
        "                minm_idx = j\n",
        "        arr[i], arr[minm_idx] = arr[minm_idx], arr[i]\n",
        "    return arr\n",
        "\n",
        "\n",
        "# take input from user\n",
        "\n",
        "list_1 = input('Please enter a list of numbers :')\n",
        "list_1 = [int(i) for i in list_1[1:-1].split(', ')]\n",
        "list_2 = input('Please enter a list of numbers :')\n",
        "list_2 = [int(i) for i in list_2[1:-1].split(', ')]\n",
        "list_1.extend(list_2)\n",
        "\n",
        "# sort the list by calling function\n",
        "\n",
        "list_1 = selection_sort(list_1)\n",
        "print('Sorted list =', list_1)\n",
        "\n",
        "# find out the median\n",
        "\n",
        "if len(list_1) % 2 == 0:\n",
        "    x = len(list_1)//2\n",
        "    mdn = (list_1[x] + list_1[x-1])/2\n",
        "else :\n",
        "    x = len(list_1)//2\n",
        "    mdn = list_1[x]\n",
        "print('Median =', mdn)\n",
        "\n",
        "# end"
      ],
      "execution_count": null,
      "outputs": [
        {
          "output_type": "stream",
          "name": "stdout",
          "text": [
            "Please enter a list of numbers :[1, 7, 9, 10]\n",
            "Please enter a list of numbers :[2, 7, 6, 5]\n",
            "Sorted list = [1, 2, 5, 6, 7, 7, 9, 10]\n",
            "Median = 6.5\n"
          ]
        }
      ]
    },
    {
      "cell_type": "markdown",
      "metadata": {
        "id": "-XKiwBR1HEl8"
      },
      "source": [
        "### Task 8\n",
        "\n",
        "\n",
        "Write a python program that takes a list from user containing both positive and negative numbers. The program then finds two pairs of values whose summation is closest to zero.\n",
        "\n",
        "=====================================================\n",
        "\n",
        "**Sample Input 1**<br/>\n",
        "list_one = [-10, 15, 2, 4, -4, 7, -8] \n",
        "\n",
        "\n",
        "**Sample Output 1**<br/>\n",
        "Two pairs which have the smallest sum = 4 and -4\n",
        "\n",
        "=====================================================\n",
        "\n",
        "\n",
        "**Sample Input 2**<br/>\n",
        "list_one = [1, -8, 4, -7, -20, 26, 70, -85]\n",
        "\n",
        "\n",
        "**Sample Output 2**<br/>\n",
        "Two pairs which have the smallest sum = 4 and -7"
      ]
    },
    {
      "cell_type": "code",
      "metadata": {
        "id": "5ORSGa5GHEl9",
        "colab": {
          "base_uri": "https://localhost:8080/"
        },
        "outputId": "8c78a381-3b86-41f7-e2cf-51d6ea2f3298"
      },
      "source": [
        "# take a given list\n",
        "\n",
        "list_one = [-10, 15, 2, 4, -4, 7, -8]\n",
        "\n",
        "num_1 = list_one[0]\n",
        "num_2 = list_one[1]\n",
        "\n",
        "x = num_1 + num_2\n",
        "\n",
        "if x < 0:\n",
        "    x *= -1\n",
        "\n",
        "# set loop conditions to find two pairs of values whose summation is closest to zero\n",
        "\n",
        "for i in list_one:\n",
        "    for j in list_one:\n",
        "        if j != i:\n",
        "            if i + j < 0:\n",
        "                y = -1 * (i + j)\n",
        "                if y < x:\n",
        "                    num_1 = i\n",
        "                    num_2 = j\n",
        "                    x = y\n",
        "            elif i + j <= x:\n",
        "                x = i + j\n",
        "                num_1 = i\n",
        "                num_2 = j\n",
        "\n",
        "print('Two pairs which have the smallest sum =', num_1, 'and', num_2)\n",
        "\n",
        "# end"
      ],
      "execution_count": null,
      "outputs": [
        {
          "output_type": "stream",
          "name": "stdout",
          "text": [
            "Two pairs which have the smallest sum = -4 and 4\n"
          ]
        }
      ]
    }
  ]
}